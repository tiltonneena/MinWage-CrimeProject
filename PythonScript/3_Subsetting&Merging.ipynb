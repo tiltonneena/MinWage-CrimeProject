{
 "cells": [
  {
   "cell_type": "markdown",
   "id": "7e802ec8",
   "metadata": {},
   "source": [
    "#### 3. Subsetting & Merging\n",
    "\n",
    "### This script contains the following:\n",
    "1. Importing libraries and data\n",
    "2. Subsetting dataframes\n",
    "3. Merging dataframes\n",
    "4. Exporting merged dataframe"
   ]
  },
  {
   "cell_type": "markdown",
   "id": "cc9c56c5",
   "metadata": {},
   "source": [
    "### 1. Importing libraries and data"
   ]
  },
  {
   "cell_type": "code",
   "execution_count": 1,
   "id": "17110b1b",
   "metadata": {},
   "outputs": [],
   "source": [
    "import pandas as pd\n",
    "import numpy as np\n",
    "import os"
   ]
  },
  {
   "cell_type": "code",
   "execution_count": 2,
   "id": "adedaa63",
   "metadata": {},
   "outputs": [],
   "source": [
    "path = r'C:\\Users\\Neena Tilton\\Dropbox\\Projects\\MinWage_Crime'"
   ]
  },
  {
   "cell_type": "code",
   "execution_count": 3,
   "id": "84761f0e",
   "metadata": {},
   "outputs": [],
   "source": [
    "# Import dataframe for Min Wage\n",
    "\n",
    "df_mw = pd.read_pickle(os.path.join(path, '02_Data', 'PreparedData', 'MinWage_wrangled.pkl'))"
   ]
  },
  {
   "cell_type": "code",
   "execution_count": 4,
   "id": "2c16a54d",
   "metadata": {},
   "outputs": [],
   "source": [
    "# Import dataframe for Crime\n",
    "\n",
    "df_crime = pd.read_pickle(os.path.join(path, '02_Data', 'PreparedData', 'crimes_wrangled.pkl'))"
   ]
  },
  {
   "cell_type": "code",
   "execution_count": 5,
   "id": "193b0f72",
   "metadata": {},
   "outputs": [
    {
     "data": {
      "text/html": [
       "<div>\n",
       "<style scoped>\n",
       "    .dataframe tbody tr th:only-of-type {\n",
       "        vertical-align: middle;\n",
       "    }\n",
       "\n",
       "    .dataframe tbody tr th {\n",
       "        vertical-align: top;\n",
       "    }\n",
       "\n",
       "    .dataframe thead th {\n",
       "        text-align: right;\n",
       "    }\n",
       "</style>\n",
       "<table border=\"1\" class=\"dataframe\">\n",
       "  <thead>\n",
       "    <tr style=\"text-align: right;\">\n",
       "      <th></th>\n",
       "      <th>Year</th>\n",
       "      <th>State</th>\n",
       "      <th>state_mw</th>\n",
       "      <th>state_mw_2020</th>\n",
       "      <th>fed_mw</th>\n",
       "      <th>fed_mw_2020</th>\n",
       "      <th>effective_mw</th>\n",
       "      <th>effective_mw_2020</th>\n",
       "    </tr>\n",
       "  </thead>\n",
       "  <tbody>\n",
       "    <tr>\n",
       "      <th>0</th>\n",
       "      <td>1968</td>\n",
       "      <td>Alabama</td>\n",
       "      <td>0.00000</td>\n",
       "      <td>0.00</td>\n",
       "      <td>1.15</td>\n",
       "      <td>8.55</td>\n",
       "      <td>1.15</td>\n",
       "      <td>8.55</td>\n",
       "    </tr>\n",
       "    <tr>\n",
       "      <th>1</th>\n",
       "      <td>1968</td>\n",
       "      <td>Alaska</td>\n",
       "      <td>2.10000</td>\n",
       "      <td>15.61</td>\n",
       "      <td>1.15</td>\n",
       "      <td>8.55</td>\n",
       "      <td>2.10</td>\n",
       "      <td>15.61</td>\n",
       "    </tr>\n",
       "    <tr>\n",
       "      <th>2</th>\n",
       "      <td>1968</td>\n",
       "      <td>Arizona</td>\n",
       "      <td>0.46800</td>\n",
       "      <td>3.48</td>\n",
       "      <td>1.15</td>\n",
       "      <td>8.55</td>\n",
       "      <td>1.15</td>\n",
       "      <td>8.55</td>\n",
       "    </tr>\n",
       "    <tr>\n",
       "      <th>3</th>\n",
       "      <td>1968</td>\n",
       "      <td>Arkansas</td>\n",
       "      <td>0.15625</td>\n",
       "      <td>1.16</td>\n",
       "      <td>1.15</td>\n",
       "      <td>8.55</td>\n",
       "      <td>1.15</td>\n",
       "      <td>8.55</td>\n",
       "    </tr>\n",
       "    <tr>\n",
       "      <th>4</th>\n",
       "      <td>1968</td>\n",
       "      <td>California</td>\n",
       "      <td>1.65000</td>\n",
       "      <td>12.26</td>\n",
       "      <td>1.15</td>\n",
       "      <td>8.55</td>\n",
       "      <td>1.65</td>\n",
       "      <td>12.26</td>\n",
       "    </tr>\n",
       "  </tbody>\n",
       "</table>\n",
       "</div>"
      ],
      "text/plain": [
       "   Year       State  state_mw  state_mw_2020  fed_mw  fed_mw_2020  \\\n",
       "0  1968     Alabama   0.00000           0.00    1.15         8.55   \n",
       "1  1968      Alaska   2.10000          15.61    1.15         8.55   \n",
       "2  1968     Arizona   0.46800           3.48    1.15         8.55   \n",
       "3  1968    Arkansas   0.15625           1.16    1.15         8.55   \n",
       "4  1968  California   1.65000          12.26    1.15         8.55   \n",
       "\n",
       "   effective_mw  effective_mw_2020  \n",
       "0          1.15               8.55  \n",
       "1          2.10              15.61  \n",
       "2          1.15               8.55  \n",
       "3          1.15               8.55  \n",
       "4          1.65              12.26  "
      ]
     },
     "execution_count": 5,
     "metadata": {},
     "output_type": "execute_result"
    }
   ],
   "source": [
    "df_mw.head()"
   ]
  },
  {
   "cell_type": "code",
   "execution_count": 6,
   "id": "dc9237a9",
   "metadata": {},
   "outputs": [
    {
     "data": {
      "text/html": [
       "<div>\n",
       "<style scoped>\n",
       "    .dataframe tbody tr th:only-of-type {\n",
       "        vertical-align: middle;\n",
       "    }\n",
       "\n",
       "    .dataframe tbody tr th {\n",
       "        vertical-align: top;\n",
       "    }\n",
       "\n",
       "    .dataframe thead th {\n",
       "        text-align: right;\n",
       "    }\n",
       "</style>\n",
       "<table border=\"1\" class=\"dataframe\">\n",
       "  <thead>\n",
       "    <tr style=\"text-align: right;\">\n",
       "      <th></th>\n",
       "      <th>state</th>\n",
       "      <th>year</th>\n",
       "      <th>prisoner_count</th>\n",
       "      <th>state_population</th>\n",
       "      <th>violent_crime</th>\n",
       "      <th>murder</th>\n",
       "      <th>robbery</th>\n",
       "      <th>burglary</th>\n",
       "    </tr>\n",
       "  </thead>\n",
       "  <tbody>\n",
       "    <tr>\n",
       "      <th>0</th>\n",
       "      <td>FEDERAL</td>\n",
       "      <td>2001</td>\n",
       "      <td>149852.0</td>\n",
       "      <td>NaN</td>\n",
       "      <td>NaN</td>\n",
       "      <td>NaN</td>\n",
       "      <td>NaN</td>\n",
       "      <td>NaN</td>\n",
       "    </tr>\n",
       "    <tr>\n",
       "      <th>1</th>\n",
       "      <td>ALABAMA</td>\n",
       "      <td>2001</td>\n",
       "      <td>24741.0</td>\n",
       "      <td>4468912.0</td>\n",
       "      <td>19582.0</td>\n",
       "      <td>379.0</td>\n",
       "      <td>5584.0</td>\n",
       "      <td>40642.0</td>\n",
       "    </tr>\n",
       "    <tr>\n",
       "      <th>2</th>\n",
       "      <td>ALASKA</td>\n",
       "      <td>2001</td>\n",
       "      <td>4570.0</td>\n",
       "      <td>633630.0</td>\n",
       "      <td>3735.0</td>\n",
       "      <td>39.0</td>\n",
       "      <td>514.0</td>\n",
       "      <td>3847.0</td>\n",
       "    </tr>\n",
       "    <tr>\n",
       "      <th>3</th>\n",
       "      <td>ARIZONA</td>\n",
       "      <td>2001</td>\n",
       "      <td>27710.0</td>\n",
       "      <td>5306966.0</td>\n",
       "      <td>28675.0</td>\n",
       "      <td>400.0</td>\n",
       "      <td>8868.0</td>\n",
       "      <td>54821.0</td>\n",
       "    </tr>\n",
       "    <tr>\n",
       "      <th>4</th>\n",
       "      <td>ARKANSAS</td>\n",
       "      <td>2001</td>\n",
       "      <td>11489.0</td>\n",
       "      <td>2694698.0</td>\n",
       "      <td>12190.0</td>\n",
       "      <td>148.0</td>\n",
       "      <td>2181.0</td>\n",
       "      <td>22196.0</td>\n",
       "    </tr>\n",
       "  </tbody>\n",
       "</table>\n",
       "</div>"
      ],
      "text/plain": [
       "      state  year  prisoner_count  state_population  violent_crime  murder  \\\n",
       "0   FEDERAL  2001        149852.0               NaN            NaN     NaN   \n",
       "1   ALABAMA  2001         24741.0         4468912.0        19582.0   379.0   \n",
       "2    ALASKA  2001          4570.0          633630.0         3735.0    39.0   \n",
       "3   ARIZONA  2001         27710.0         5306966.0        28675.0   400.0   \n",
       "4  ARKANSAS  2001         11489.0         2694698.0        12190.0   148.0   \n",
       "\n",
       "   robbery  burglary  \n",
       "0      NaN       NaN  \n",
       "1   5584.0   40642.0  \n",
       "2    514.0    3847.0  \n",
       "3   8868.0   54821.0  \n",
       "4   2181.0   22196.0  "
      ]
     },
     "execution_count": 6,
     "metadata": {},
     "output_type": "execute_result"
    }
   ],
   "source": [
    "df_crime.head()"
   ]
  },
  {
   "cell_type": "markdown",
   "id": "e859b92f",
   "metadata": {},
   "source": [
    "### 2. Subsetting Dataframe"
   ]
  },
  {
   "cell_type": "markdown",
   "id": "221566c0",
   "metadata": {},
   "source": [
    "After some consideration, decided that the rows for states named 'FEDERAL' is not needed of the Crimes df. Create a subset removing all 'FEDERAL' rows."
   ]
  },
  {
   "cell_type": "code",
   "execution_count": 9,
   "id": "780e7054",
   "metadata": {},
   "outputs": [],
   "source": [
    "df_crime_2 = df_crime.loc[df_crime['state'] != 'FEDERAL']"
   ]
  },
  {
   "cell_type": "code",
   "execution_count": 10,
   "id": "a675d8ac",
   "metadata": {},
   "outputs": [
    {
     "data": {
      "text/plain": [
       "ALABAMA           16\n",
       "PENNSYLVANIA      16\n",
       "NEVADA            16\n",
       "NEW HAMPSHIRE     16\n",
       "NEW JERSEY        16\n",
       "NEW MEXICO        16\n",
       "NEW YORK          16\n",
       "NORTH CAROLINA    16\n",
       "NORTH DAKOTA      16\n",
       "OHIO              16\n",
       "OKLAHOMA          16\n",
       "OREGON            16\n",
       "RHODE ISLAND      16\n",
       "MONTANA           16\n",
       "SOUTH CAROLINA    16\n",
       "SOUTH DAKOTA      16\n",
       "TENNESSEE         16\n",
       "TEXAS             16\n",
       "UTAH              16\n",
       "VERMONT           16\n",
       "VIRGINIA          16\n",
       "WASHINGTON        16\n",
       "WEST VIRGINIA     16\n",
       "WISCONSIN         16\n",
       "NEBRASKA          16\n",
       "MISSOURI          16\n",
       "ALASKA            16\n",
       "MISSISSIPPI       16\n",
       "ARIZONA           16\n",
       "ARKANSAS          16\n",
       "CALIFORNIA        16\n",
       "COLORADO          16\n",
       "CONNECTICUT       16\n",
       "DELAWARE          16\n",
       "FLORIDA           16\n",
       "GEORGIA           16\n",
       "HAWAII            16\n",
       "IDAHO             16\n",
       "ILLINOIS          16\n",
       "INDIANA           16\n",
       "IOWA              16\n",
       "KANSAS            16\n",
       "KENTUCKY          16\n",
       "LOUISIANA         16\n",
       "MAINE             16\n",
       "MARYLAND          16\n",
       "MASSACHUSETTS     16\n",
       "MICHIGAN          16\n",
       "MINNESOTA         16\n",
       "WYOMING           16\n",
       "FEDERAL            0\n",
       "Name: state, dtype: int64"
      ]
     },
     "execution_count": 10,
     "metadata": {},
     "output_type": "execute_result"
    }
   ],
   "source": [
    "df_crime_2['state'].value_counts(dropna = False)"
   ]
  },
  {
   "cell_type": "code",
   "execution_count": 11,
   "id": "9eeb3e52",
   "metadata": {},
   "outputs": [
    {
     "data": {
      "text/plain": [
       "state               0\n",
       "year                0\n",
       "prisoner_count      0\n",
       "state_population    0\n",
       "violent_crime       0\n",
       "murder              0\n",
       "robbery             0\n",
       "burglary            0\n",
       "dtype: int64"
      ]
     },
     "execution_count": 11,
     "metadata": {},
     "output_type": "execute_result"
    }
   ],
   "source": [
    "df_crime_2.isnull().sum()"
   ]
  },
  {
   "cell_type": "markdown",
   "id": "4f3b2033",
   "metadata": {},
   "source": [
    "As for Min Wage dataframe, the 'Year' ranges between 1968 to 2020. The Crime data frame ranges between 2001 to 2016. Create a subset of Min Wage dataframe ranging only between 2001 to 2016. "
   ]
  },
  {
   "cell_type": "code",
   "execution_count": 14,
   "id": "441b8b76",
   "metadata": {},
   "outputs": [],
   "source": [
    "df_mw_2 = df_mw.loc[(df_mw['Year'] >= 2001) & (df_mw['Year'] <= 2016)]"
   ]
  },
  {
   "cell_type": "code",
   "execution_count": 15,
   "id": "d9a61266",
   "metadata": {},
   "outputs": [
    {
     "data": {
      "text/plain": [
       "2001    54\n",
       "2002    54\n",
       "2003    54\n",
       "2004    54\n",
       "2005    54\n",
       "2006    54\n",
       "2007    54\n",
       "2008    54\n",
       "2009    54\n",
       "2010    54\n",
       "2011    54\n",
       "2012    54\n",
       "2013    54\n",
       "2014    54\n",
       "2015    54\n",
       "2016    54\n",
       "Name: Year, dtype: int64"
      ]
     },
     "execution_count": 15,
     "metadata": {},
     "output_type": "execute_result"
    }
   ],
   "source": [
    "df_mw_2['Year'].value_counts(dropna = False)"
   ]
  },
  {
   "cell_type": "markdown",
   "id": "a7d329a1",
   "metadata": {},
   "source": [
    "### 3. Merging Dataframes"
   ]
  },
  {
   "cell_type": "markdown",
   "id": "f3b78404",
   "metadata": {},
   "source": [
    "The Crimes dataframe names for 'state' are in all caps. Update to be in proper title format to successfully merge the two dataframes. "
   ]
  },
  {
   "cell_type": "code",
   "execution_count": 16,
   "id": "a89ad9d7",
   "metadata": {},
   "outputs": [
    {
     "name": "stderr",
     "output_type": "stream",
     "text": [
      "C:\\Users\\NEENAT~1\\AppData\\Local\\Temp/ipykernel_19992/706171519.py:1: SettingWithCopyWarning: \n",
      "A value is trying to be set on a copy of a slice from a DataFrame.\n",
      "Try using .loc[row_indexer,col_indexer] = value instead\n",
      "\n",
      "See the caveats in the documentation: https://pandas.pydata.org/pandas-docs/stable/user_guide/indexing.html#returning-a-view-versus-a-copy\n",
      "  df_crime_2['state'] = df_crime_2['state'].str.title()\n"
     ]
    }
   ],
   "source": [
    "df_crime_2['state'] = df_crime_2['state'].str.title()"
   ]
  },
  {
   "cell_type": "code",
   "execution_count": 17,
   "id": "45ba3d06",
   "metadata": {},
   "outputs": [
    {
     "data": {
      "text/plain": [
       "Alabama           16\n",
       "Pennsylvania      16\n",
       "Nevada            16\n",
       "New Hampshire     16\n",
       "New Jersey        16\n",
       "New Mexico        16\n",
       "New York          16\n",
       "North Carolina    16\n",
       "North Dakota      16\n",
       "Ohio              16\n",
       "Oklahoma          16\n",
       "Oregon            16\n",
       "Rhode Island      16\n",
       "Alaska            16\n",
       "South Carolina    16\n",
       "South Dakota      16\n",
       "Tennessee         16\n",
       "Texas             16\n",
       "Utah              16\n",
       "Vermont           16\n",
       "Virginia          16\n",
       "Washington        16\n",
       "West Virginia     16\n",
       "Wisconsin         16\n",
       "Nebraska          16\n",
       "Montana           16\n",
       "Missouri          16\n",
       "Mississippi       16\n",
       "Arizona           16\n",
       "Arkansas          16\n",
       "California        16\n",
       "Colorado          16\n",
       "Connecticut       16\n",
       "Delaware          16\n",
       "Florida           16\n",
       "Georgia           16\n",
       "Hawaii            16\n",
       "Idaho             16\n",
       "Illinois          16\n",
       "Indiana           16\n",
       "Iowa              16\n",
       "Kansas            16\n",
       "Kentucky          16\n",
       "Louisiana         16\n",
       "Maine             16\n",
       "Maryland          16\n",
       "Massachusetts     16\n",
       "Michigan          16\n",
       "Minnesota         16\n",
       "Wyoming           16\n",
       "Name: state, dtype: int64"
      ]
     },
     "execution_count": 17,
     "metadata": {},
     "output_type": "execute_result"
    }
   ],
   "source": [
    "df_crime_2['state'].value_counts(dropna = False)"
   ]
  },
  {
   "cell_type": "markdown",
   "id": "a74e009c",
   "metadata": {},
   "source": [
    "Now time to merge the Crimes df to Min Wage df."
   ]
  },
  {
   "cell_type": "code",
   "execution_count": 22,
   "id": "8fe46be3",
   "metadata": {},
   "outputs": [],
   "source": [
    "# Before we do so, rename column names to match each other.\n",
    "\n",
    "dict = {'state':'State', 'year':'Year'}"
   ]
  },
  {
   "cell_type": "code",
   "execution_count": 23,
   "id": "424ef335",
   "metadata": {},
   "outputs": [
    {
     "name": "stderr",
     "output_type": "stream",
     "text": [
      "C:\\Users\\Neena Tilton\\anaconda3\\lib\\site-packages\\pandas\\core\\frame.py:5039: SettingWithCopyWarning: \n",
      "A value is trying to be set on a copy of a slice from a DataFrame\n",
      "\n",
      "See the caveats in the documentation: https://pandas.pydata.org/pandas-docs/stable/user_guide/indexing.html#returning-a-view-versus-a-copy\n",
      "  return super().rename(\n"
     ]
    }
   ],
   "source": [
    "df_crime_2.rename(columns = dict, inplace = True)"
   ]
  },
  {
   "cell_type": "code",
   "execution_count": 24,
   "id": "8573603a",
   "metadata": {},
   "outputs": [
    {
     "data": {
      "text/html": [
       "<div>\n",
       "<style scoped>\n",
       "    .dataframe tbody tr th:only-of-type {\n",
       "        vertical-align: middle;\n",
       "    }\n",
       "\n",
       "    .dataframe tbody tr th {\n",
       "        vertical-align: top;\n",
       "    }\n",
       "\n",
       "    .dataframe thead th {\n",
       "        text-align: right;\n",
       "    }\n",
       "</style>\n",
       "<table border=\"1\" class=\"dataframe\">\n",
       "  <thead>\n",
       "    <tr style=\"text-align: right;\">\n",
       "      <th></th>\n",
       "      <th>State</th>\n",
       "      <th>Year</th>\n",
       "      <th>prisoner_count</th>\n",
       "      <th>state_population</th>\n",
       "      <th>violent_crime</th>\n",
       "      <th>murder</th>\n",
       "      <th>robbery</th>\n",
       "      <th>burglary</th>\n",
       "    </tr>\n",
       "  </thead>\n",
       "  <tbody>\n",
       "    <tr>\n",
       "      <th>1</th>\n",
       "      <td>Alabama</td>\n",
       "      <td>2001</td>\n",
       "      <td>24741.0</td>\n",
       "      <td>4468912.0</td>\n",
       "      <td>19582.0</td>\n",
       "      <td>379.0</td>\n",
       "      <td>5584.0</td>\n",
       "      <td>40642.0</td>\n",
       "    </tr>\n",
       "    <tr>\n",
       "      <th>2</th>\n",
       "      <td>Alaska</td>\n",
       "      <td>2001</td>\n",
       "      <td>4570.0</td>\n",
       "      <td>633630.0</td>\n",
       "      <td>3735.0</td>\n",
       "      <td>39.0</td>\n",
       "      <td>514.0</td>\n",
       "      <td>3847.0</td>\n",
       "    </tr>\n",
       "    <tr>\n",
       "      <th>3</th>\n",
       "      <td>Arizona</td>\n",
       "      <td>2001</td>\n",
       "      <td>27710.0</td>\n",
       "      <td>5306966.0</td>\n",
       "      <td>28675.0</td>\n",
       "      <td>400.0</td>\n",
       "      <td>8868.0</td>\n",
       "      <td>54821.0</td>\n",
       "    </tr>\n",
       "    <tr>\n",
       "      <th>4</th>\n",
       "      <td>Arkansas</td>\n",
       "      <td>2001</td>\n",
       "      <td>11489.0</td>\n",
       "      <td>2694698.0</td>\n",
       "      <td>12190.0</td>\n",
       "      <td>148.0</td>\n",
       "      <td>2181.0</td>\n",
       "      <td>22196.0</td>\n",
       "    </tr>\n",
       "    <tr>\n",
       "      <th>5</th>\n",
       "      <td>California</td>\n",
       "      <td>2001</td>\n",
       "      <td>157142.0</td>\n",
       "      <td>34600464.0</td>\n",
       "      <td>212867.0</td>\n",
       "      <td>2206.0</td>\n",
       "      <td>64614.0</td>\n",
       "      <td>232273.0</td>\n",
       "    </tr>\n",
       "  </tbody>\n",
       "</table>\n",
       "</div>"
      ],
      "text/plain": [
       "        State  Year  prisoner_count  state_population  violent_crime  murder  \\\n",
       "1     Alabama  2001         24741.0         4468912.0        19582.0   379.0   \n",
       "2      Alaska  2001          4570.0          633630.0         3735.0    39.0   \n",
       "3     Arizona  2001         27710.0         5306966.0        28675.0   400.0   \n",
       "4    Arkansas  2001         11489.0         2694698.0        12190.0   148.0   \n",
       "5  California  2001        157142.0        34600464.0       212867.0  2206.0   \n",
       "\n",
       "   robbery  burglary  \n",
       "1   5584.0   40642.0  \n",
       "2    514.0    3847.0  \n",
       "3   8868.0   54821.0  \n",
       "4   2181.0   22196.0  \n",
       "5  64614.0  232273.0  "
      ]
     },
     "execution_count": 24,
     "metadata": {},
     "output_type": "execute_result"
    }
   ],
   "source": [
    "df_crime_2.head()"
   ]
  },
  {
   "cell_type": "code",
   "execution_count": 27,
   "id": "25ba20ed",
   "metadata": {},
   "outputs": [],
   "source": [
    "df_merged = df_mw_2.merge(df_crime_2, on = ['State','Year'], how = 'inner', indicator = True)"
   ]
  },
  {
   "cell_type": "code",
   "execution_count": 28,
   "id": "d49c6dc4",
   "metadata": {},
   "outputs": [
    {
     "data": {
      "text/html": [
       "<div>\n",
       "<style scoped>\n",
       "    .dataframe tbody tr th:only-of-type {\n",
       "        vertical-align: middle;\n",
       "    }\n",
       "\n",
       "    .dataframe tbody tr th {\n",
       "        vertical-align: top;\n",
       "    }\n",
       "\n",
       "    .dataframe thead th {\n",
       "        text-align: right;\n",
       "    }\n",
       "</style>\n",
       "<table border=\"1\" class=\"dataframe\">\n",
       "  <thead>\n",
       "    <tr style=\"text-align: right;\">\n",
       "      <th></th>\n",
       "      <th>Year</th>\n",
       "      <th>State</th>\n",
       "      <th>state_mw</th>\n",
       "      <th>state_mw_2020</th>\n",
       "      <th>fed_mw</th>\n",
       "      <th>fed_mw_2020</th>\n",
       "      <th>effective_mw</th>\n",
       "      <th>effective_mw_2020</th>\n",
       "      <th>prisoner_count</th>\n",
       "      <th>state_population</th>\n",
       "      <th>violent_crime</th>\n",
       "      <th>murder</th>\n",
       "      <th>robbery</th>\n",
       "      <th>burglary</th>\n",
       "      <th>_merge</th>\n",
       "    </tr>\n",
       "  </thead>\n",
       "  <tbody>\n",
       "    <tr>\n",
       "      <th>0</th>\n",
       "      <td>2001</td>\n",
       "      <td>Alabama</td>\n",
       "      <td>0.00</td>\n",
       "      <td>0.00</td>\n",
       "      <td>5.15</td>\n",
       "      <td>7.52</td>\n",
       "      <td>5.15</td>\n",
       "      <td>7.52</td>\n",
       "      <td>24741.0</td>\n",
       "      <td>4468912.0</td>\n",
       "      <td>19582.0</td>\n",
       "      <td>379.0</td>\n",
       "      <td>5584.0</td>\n",
       "      <td>40642.0</td>\n",
       "      <td>both</td>\n",
       "    </tr>\n",
       "    <tr>\n",
       "      <th>1</th>\n",
       "      <td>2001</td>\n",
       "      <td>Alaska</td>\n",
       "      <td>5.65</td>\n",
       "      <td>8.25</td>\n",
       "      <td>5.15</td>\n",
       "      <td>7.52</td>\n",
       "      <td>5.65</td>\n",
       "      <td>8.25</td>\n",
       "      <td>4570.0</td>\n",
       "      <td>633630.0</td>\n",
       "      <td>3735.0</td>\n",
       "      <td>39.0</td>\n",
       "      <td>514.0</td>\n",
       "      <td>3847.0</td>\n",
       "      <td>both</td>\n",
       "    </tr>\n",
       "    <tr>\n",
       "      <th>2</th>\n",
       "      <td>2001</td>\n",
       "      <td>Arizona</td>\n",
       "      <td>0.00</td>\n",
       "      <td>0.00</td>\n",
       "      <td>5.15</td>\n",
       "      <td>7.52</td>\n",
       "      <td>5.15</td>\n",
       "      <td>7.52</td>\n",
       "      <td>27710.0</td>\n",
       "      <td>5306966.0</td>\n",
       "      <td>28675.0</td>\n",
       "      <td>400.0</td>\n",
       "      <td>8868.0</td>\n",
       "      <td>54821.0</td>\n",
       "      <td>both</td>\n",
       "    </tr>\n",
       "    <tr>\n",
       "      <th>3</th>\n",
       "      <td>2001</td>\n",
       "      <td>Arkansas</td>\n",
       "      <td>5.15</td>\n",
       "      <td>7.52</td>\n",
       "      <td>5.15</td>\n",
       "      <td>7.52</td>\n",
       "      <td>5.15</td>\n",
       "      <td>7.52</td>\n",
       "      <td>11489.0</td>\n",
       "      <td>2694698.0</td>\n",
       "      <td>12190.0</td>\n",
       "      <td>148.0</td>\n",
       "      <td>2181.0</td>\n",
       "      <td>22196.0</td>\n",
       "      <td>both</td>\n",
       "    </tr>\n",
       "    <tr>\n",
       "      <th>4</th>\n",
       "      <td>2001</td>\n",
       "      <td>California</td>\n",
       "      <td>6.25</td>\n",
       "      <td>9.13</td>\n",
       "      <td>5.15</td>\n",
       "      <td>7.52</td>\n",
       "      <td>6.25</td>\n",
       "      <td>9.13</td>\n",
       "      <td>157142.0</td>\n",
       "      <td>34600464.0</td>\n",
       "      <td>212867.0</td>\n",
       "      <td>2206.0</td>\n",
       "      <td>64614.0</td>\n",
       "      <td>232273.0</td>\n",
       "      <td>both</td>\n",
       "    </tr>\n",
       "  </tbody>\n",
       "</table>\n",
       "</div>"
      ],
      "text/plain": [
       "   Year       State  state_mw  state_mw_2020  fed_mw  fed_mw_2020  \\\n",
       "0  2001     Alabama      0.00           0.00    5.15         7.52   \n",
       "1  2001      Alaska      5.65           8.25    5.15         7.52   \n",
       "2  2001     Arizona      0.00           0.00    5.15         7.52   \n",
       "3  2001    Arkansas      5.15           7.52    5.15         7.52   \n",
       "4  2001  California      6.25           9.13    5.15         7.52   \n",
       "\n",
       "   effective_mw  effective_mw_2020  prisoner_count  state_population  \\\n",
       "0          5.15               7.52         24741.0         4468912.0   \n",
       "1          5.65               8.25          4570.0          633630.0   \n",
       "2          5.15               7.52         27710.0         5306966.0   \n",
       "3          5.15               7.52         11489.0         2694698.0   \n",
       "4          6.25               9.13        157142.0        34600464.0   \n",
       "\n",
       "   violent_crime  murder  robbery  burglary _merge  \n",
       "0        19582.0   379.0   5584.0   40642.0   both  \n",
       "1         3735.0    39.0    514.0    3847.0   both  \n",
       "2        28675.0   400.0   8868.0   54821.0   both  \n",
       "3        12190.0   148.0   2181.0   22196.0   both  \n",
       "4       212867.0  2206.0  64614.0  232273.0   both  "
      ]
     },
     "execution_count": 28,
     "metadata": {},
     "output_type": "execute_result"
    }
   ],
   "source": [
    "df_merged.head()"
   ]
  },
  {
   "cell_type": "code",
   "execution_count": 29,
   "id": "0c26c4ef",
   "metadata": {},
   "outputs": [
    {
     "data": {
      "text/plain": [
       "both          800\n",
       "left_only       0\n",
       "right_only      0\n",
       "Name: _merge, dtype: int64"
      ]
     },
     "execution_count": 29,
     "metadata": {},
     "output_type": "execute_result"
    }
   ],
   "source": [
    "df_merged['_merge'].value_counts()"
   ]
  },
  {
   "cell_type": "code",
   "execution_count": 30,
   "id": "1375496d",
   "metadata": {},
   "outputs": [
    {
     "data": {
      "text/plain": [
       "(800, 15)"
      ]
     },
     "execution_count": 30,
     "metadata": {},
     "output_type": "execute_result"
    }
   ],
   "source": [
    "df_merged.shape"
   ]
  },
  {
   "cell_type": "code",
   "execution_count": 31,
   "id": "9ed49ec5",
   "metadata": {},
   "outputs": [],
   "source": [
    "# Now that we've confirmed that the merged df is a full merge, remove the '_merge' flag column.\n",
    "\n",
    "df_merged = df_merged.drop(columns = ['_merge'])"
   ]
  },
  {
   "cell_type": "code",
   "execution_count": 32,
   "id": "ca77534c",
   "metadata": {},
   "outputs": [
    {
     "data": {
      "text/plain": [
       "(800, 14)"
      ]
     },
     "execution_count": 32,
     "metadata": {},
     "output_type": "execute_result"
    }
   ],
   "source": [
    "df_merged.shape"
   ]
  },
  {
   "cell_type": "code",
   "execution_count": 33,
   "id": "d26eb143",
   "metadata": {},
   "outputs": [
    {
     "data": {
      "text/plain": [
       "Index(['Year', 'State', 'state_mw', 'state_mw_2020', 'fed_mw', 'fed_mw_2020',\n",
       "       'effective_mw', 'effective_mw_2020', 'prisoner_count',\n",
       "       'state_population', 'violent_crime', 'murder', 'robbery', 'burglary'],\n",
       "      dtype='object')"
      ]
     },
     "execution_count": 33,
     "metadata": {},
     "output_type": "execute_result"
    }
   ],
   "source": [
    "df_merged.columns"
   ]
  },
  {
   "cell_type": "markdown",
   "id": "0d135610",
   "metadata": {},
   "source": [
    "### 4. Export merged dataframe"
   ]
  },
  {
   "cell_type": "code",
   "execution_count": 34,
   "id": "148c6260",
   "metadata": {},
   "outputs": [],
   "source": [
    "df_merged.to_pickle(os.path.join(path, '02_Data','PreparedData', 'df_merged.pkl'))"
   ]
  }
 ],
 "metadata": {
  "kernelspec": {
   "display_name": "Python 3 (ipykernel)",
   "language": "python",
   "name": "python3"
  },
  "language_info": {
   "codemirror_mode": {
    "name": "ipython",
    "version": 3
   },
   "file_extension": ".py",
   "mimetype": "text/x-python",
   "name": "python",
   "nbconvert_exporter": "python",
   "pygments_lexer": "ipython3",
   "version": "3.9.7"
  }
 },
 "nbformat": 4,
 "nbformat_minor": 5
}
