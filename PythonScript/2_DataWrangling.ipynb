{
 "cells": [
  {
   "cell_type": "markdown",
   "id": "38177bb4",
   "metadata": {},
   "source": [
    "## 2. Data Wrangling\n",
    "\n",
    "### This script contains the following: \n",
    "1. Importing libraries and data\n",
    "2. Renaming columns\n",
    "3. Data consistency check\n",
    "4. Data type check\n",
    "5. Exporting data to pickle"
   ]
  },
  {
   "cell_type": "markdown",
   "id": "9ce05f1f",
   "metadata": {},
   "source": [
    "### 1. Importing libraries and data"
   ]
  },
  {
   "cell_type": "code",
   "execution_count": 1,
   "id": "ee21437c",
   "metadata": {},
   "outputs": [],
   "source": [
    "import pandas as pd\n",
    "import numpy as np\n",
    "import os"
   ]
  },
  {
   "cell_type": "code",
   "execution_count": 2,
   "id": "ed0cb123",
   "metadata": {},
   "outputs": [],
   "source": [
    "path = r'C:\\Users\\Neena Tilton\\Dropbox\\Projects\\MinWage_Crime'"
   ]
  },
  {
   "cell_type": "code",
   "execution_count": 3,
   "id": "a5726ad8",
   "metadata": {},
   "outputs": [],
   "source": [
    "# Import dataframe of Minimum Wage\n",
    "\n",
    "df_mw = pd.read_pickle(os.path.join(path, '02_Data', 'PreparedData', 'MinWage_clean.pkl'))"
   ]
  },
  {
   "cell_type": "code",
   "execution_count": 4,
   "id": "44639ddf",
   "metadata": {},
   "outputs": [],
   "source": [
    "# Import dataframe of Crimes\n",
    "\n",
    "df_crime = pd.read_pickle(os.path.join(path, '02_Data', 'PreparedData', 'crimes_clean.pkl'))"
   ]
  },
  {
   "cell_type": "code",
   "execution_count": 5,
   "id": "07c12fba",
   "metadata": {},
   "outputs": [
    {
     "data": {
      "text/html": [
       "<div>\n",
       "<style scoped>\n",
       "    .dataframe tbody tr th:only-of-type {\n",
       "        vertical-align: middle;\n",
       "    }\n",
       "\n",
       "    .dataframe tbody tr th {\n",
       "        vertical-align: top;\n",
       "    }\n",
       "\n",
       "    .dataframe thead th {\n",
       "        text-align: right;\n",
       "    }\n",
       "</style>\n",
       "<table border=\"1\" class=\"dataframe\">\n",
       "  <thead>\n",
       "    <tr style=\"text-align: right;\">\n",
       "      <th></th>\n",
       "      <th>Year</th>\n",
       "      <th>State</th>\n",
       "      <th>State.Minimum.Wage</th>\n",
       "      <th>State.Minimum.Wage.2020.Dollars</th>\n",
       "      <th>Federal.Minimum.Wage</th>\n",
       "      <th>Federal.Minimum.Wage.2020.Dollars</th>\n",
       "      <th>Effective.Minimum.Wage</th>\n",
       "      <th>Effective.Minimum.Wage.2020.Dollars</th>\n",
       "    </tr>\n",
       "  </thead>\n",
       "  <tbody>\n",
       "    <tr>\n",
       "      <th>0</th>\n",
       "      <td>1968</td>\n",
       "      <td>Alabama</td>\n",
       "      <td>0.00000</td>\n",
       "      <td>0.00</td>\n",
       "      <td>1.15</td>\n",
       "      <td>8.55</td>\n",
       "      <td>1.15</td>\n",
       "      <td>8.55</td>\n",
       "    </tr>\n",
       "    <tr>\n",
       "      <th>1</th>\n",
       "      <td>1968</td>\n",
       "      <td>Alaska</td>\n",
       "      <td>2.10000</td>\n",
       "      <td>15.61</td>\n",
       "      <td>1.15</td>\n",
       "      <td>8.55</td>\n",
       "      <td>2.10</td>\n",
       "      <td>15.61</td>\n",
       "    </tr>\n",
       "    <tr>\n",
       "      <th>2</th>\n",
       "      <td>1968</td>\n",
       "      <td>Arizona</td>\n",
       "      <td>0.46800</td>\n",
       "      <td>3.48</td>\n",
       "      <td>1.15</td>\n",
       "      <td>8.55</td>\n",
       "      <td>1.15</td>\n",
       "      <td>8.55</td>\n",
       "    </tr>\n",
       "    <tr>\n",
       "      <th>3</th>\n",
       "      <td>1968</td>\n",
       "      <td>Arkansas</td>\n",
       "      <td>0.15625</td>\n",
       "      <td>1.16</td>\n",
       "      <td>1.15</td>\n",
       "      <td>8.55</td>\n",
       "      <td>1.15</td>\n",
       "      <td>8.55</td>\n",
       "    </tr>\n",
       "    <tr>\n",
       "      <th>4</th>\n",
       "      <td>1968</td>\n",
       "      <td>California</td>\n",
       "      <td>1.65000</td>\n",
       "      <td>12.26</td>\n",
       "      <td>1.15</td>\n",
       "      <td>8.55</td>\n",
       "      <td>1.65</td>\n",
       "      <td>12.26</td>\n",
       "    </tr>\n",
       "  </tbody>\n",
       "</table>\n",
       "</div>"
      ],
      "text/plain": [
       "   Year       State  State.Minimum.Wage  State.Minimum.Wage.2020.Dollars  \\\n",
       "0  1968     Alabama             0.00000                             0.00   \n",
       "1  1968      Alaska             2.10000                            15.61   \n",
       "2  1968     Arizona             0.46800                             3.48   \n",
       "3  1968    Arkansas             0.15625                             1.16   \n",
       "4  1968  California             1.65000                            12.26   \n",
       "\n",
       "   Federal.Minimum.Wage  Federal.Minimum.Wage.2020.Dollars  \\\n",
       "0                  1.15                               8.55   \n",
       "1                  1.15                               8.55   \n",
       "2                  1.15                               8.55   \n",
       "3                  1.15                               8.55   \n",
       "4                  1.15                               8.55   \n",
       "\n",
       "   Effective.Minimum.Wage  Effective.Minimum.Wage.2020.Dollars  \n",
       "0                    1.15                                 8.55  \n",
       "1                    2.10                                15.61  \n",
       "2                    1.15                                 8.55  \n",
       "3                    1.15                                 8.55  \n",
       "4                    1.65                                12.26  "
      ]
     },
     "execution_count": 5,
     "metadata": {},
     "output_type": "execute_result"
    }
   ],
   "source": [
    "df_mw.head()"
   ]
  },
  {
   "cell_type": "code",
   "execution_count": 6,
   "id": "99b19c68",
   "metadata": {},
   "outputs": [
    {
     "data": {
      "text/html": [
       "<div>\n",
       "<style scoped>\n",
       "    .dataframe tbody tr th:only-of-type {\n",
       "        vertical-align: middle;\n",
       "    }\n",
       "\n",
       "    .dataframe tbody tr th {\n",
       "        vertical-align: top;\n",
       "    }\n",
       "\n",
       "    .dataframe thead th {\n",
       "        text-align: right;\n",
       "    }\n",
       "</style>\n",
       "<table border=\"1\" class=\"dataframe\">\n",
       "  <thead>\n",
       "    <tr style=\"text-align: right;\">\n",
       "      <th></th>\n",
       "      <th>jurisdiction</th>\n",
       "      <th>year</th>\n",
       "      <th>prisoner_count</th>\n",
       "      <th>state_population</th>\n",
       "      <th>violent_crime_total</th>\n",
       "      <th>murder_manslaughter</th>\n",
       "      <th>robbery</th>\n",
       "      <th>burglary</th>\n",
       "    </tr>\n",
       "  </thead>\n",
       "  <tbody>\n",
       "    <tr>\n",
       "      <th>0</th>\n",
       "      <td>FEDERAL</td>\n",
       "      <td>2001</td>\n",
       "      <td>149852</td>\n",
       "      <td>NaN</td>\n",
       "      <td>NaN</td>\n",
       "      <td>NaN</td>\n",
       "      <td>NaN</td>\n",
       "      <td>NaN</td>\n",
       "    </tr>\n",
       "    <tr>\n",
       "      <th>1</th>\n",
       "      <td>ALABAMA</td>\n",
       "      <td>2001</td>\n",
       "      <td>24741</td>\n",
       "      <td>4468912.0</td>\n",
       "      <td>19582.0</td>\n",
       "      <td>379.0</td>\n",
       "      <td>5584.0</td>\n",
       "      <td>40642.0</td>\n",
       "    </tr>\n",
       "    <tr>\n",
       "      <th>2</th>\n",
       "      <td>ALASKA</td>\n",
       "      <td>2001</td>\n",
       "      <td>4570</td>\n",
       "      <td>633630.0</td>\n",
       "      <td>3735.0</td>\n",
       "      <td>39.0</td>\n",
       "      <td>514.0</td>\n",
       "      <td>3847.0</td>\n",
       "    </tr>\n",
       "    <tr>\n",
       "      <th>3</th>\n",
       "      <td>ARIZONA</td>\n",
       "      <td>2001</td>\n",
       "      <td>27710</td>\n",
       "      <td>5306966.0</td>\n",
       "      <td>28675.0</td>\n",
       "      <td>400.0</td>\n",
       "      <td>8868.0</td>\n",
       "      <td>54821.0</td>\n",
       "    </tr>\n",
       "    <tr>\n",
       "      <th>4</th>\n",
       "      <td>ARKANSAS</td>\n",
       "      <td>2001</td>\n",
       "      <td>11489</td>\n",
       "      <td>2694698.0</td>\n",
       "      <td>12190.0</td>\n",
       "      <td>148.0</td>\n",
       "      <td>2181.0</td>\n",
       "      <td>22196.0</td>\n",
       "    </tr>\n",
       "  </tbody>\n",
       "</table>\n",
       "</div>"
      ],
      "text/plain": [
       "  jurisdiction  year  prisoner_count  state_population  violent_crime_total  \\\n",
       "0      FEDERAL  2001          149852               NaN                  NaN   \n",
       "1      ALABAMA  2001           24741         4468912.0              19582.0   \n",
       "2       ALASKA  2001            4570          633630.0               3735.0   \n",
       "3      ARIZONA  2001           27710         5306966.0              28675.0   \n",
       "4     ARKANSAS  2001           11489         2694698.0              12190.0   \n",
       "\n",
       "   murder_manslaughter  robbery  burglary  \n",
       "0                  NaN      NaN       NaN  \n",
       "1                379.0   5584.0   40642.0  \n",
       "2                 39.0    514.0    3847.0  \n",
       "3                400.0   8868.0   54821.0  \n",
       "4                148.0   2181.0   22196.0  "
      ]
     },
     "execution_count": 6,
     "metadata": {},
     "output_type": "execute_result"
    }
   ],
   "source": [
    "df_crime.head()"
   ]
  },
  {
   "cell_type": "code",
   "execution_count": 7,
   "id": "4ab80253",
   "metadata": {},
   "outputs": [
    {
     "data": {
      "text/plain": [
       "Index(['Year', 'State', 'State.Minimum.Wage',\n",
       "       'State.Minimum.Wage.2020.Dollars', 'Federal.Minimum.Wage',\n",
       "       'Federal.Minimum.Wage.2020.Dollars', 'Effective.Minimum.Wage',\n",
       "       'Effective.Minimum.Wage.2020.Dollars'],\n",
       "      dtype='object')"
      ]
     },
     "execution_count": 7,
     "metadata": {},
     "output_type": "execute_result"
    }
   ],
   "source": [
    "df_mw.columns"
   ]
  },
  {
   "cell_type": "code",
   "execution_count": 8,
   "id": "793ad748",
   "metadata": {},
   "outputs": [
    {
     "data": {
      "text/plain": [
       "Index(['jurisdiction', 'year', 'prisoner_count', 'state_population',\n",
       "       'violent_crime_total', 'murder_manslaughter', 'robbery', 'burglary'],\n",
       "      dtype='object')"
      ]
     },
     "execution_count": 8,
     "metadata": {},
     "output_type": "execute_result"
    }
   ],
   "source": [
    "df_crime.columns"
   ]
  },
  {
   "cell_type": "code",
   "execution_count": 9,
   "id": "0c9345e7",
   "metadata": {},
   "outputs": [],
   "source": [
    "# Create a dictionary of old name to new name in mw_dict.\n",
    "\n",
    "mw_dict = {'State.Minimum.Wage':'state_mw',\n",
    "       'State.Minimum.Wage.2020.Dollars':'state_mw_2020',\n",
    "        'Federal.Minimum.Wage':'fed_mw',\n",
    "       'Federal.Minimum.Wage.2020.Dollars': 'fed_mw_2020',\n",
    "        'Effective.Minimum.Wage': 'effective_mw',\n",
    "       'Effective.Minimum.Wage.2020.Dollars':'effective_mw_2020'}"
   ]
  },
  {
   "cell_type": "code",
   "execution_count": 10,
   "id": "b7295f75",
   "metadata": {},
   "outputs": [],
   "source": [
    "# Rename columns for Min Wage df using mw_dict.\n",
    "\n",
    "df_mw.rename(columns = mw_dict, inplace = True)"
   ]
  },
  {
   "cell_type": "code",
   "execution_count": 11,
   "id": "d332d0bc",
   "metadata": {},
   "outputs": [
    {
     "data": {
      "text/html": [
       "<div>\n",
       "<style scoped>\n",
       "    .dataframe tbody tr th:only-of-type {\n",
       "        vertical-align: middle;\n",
       "    }\n",
       "\n",
       "    .dataframe tbody tr th {\n",
       "        vertical-align: top;\n",
       "    }\n",
       "\n",
       "    .dataframe thead th {\n",
       "        text-align: right;\n",
       "    }\n",
       "</style>\n",
       "<table border=\"1\" class=\"dataframe\">\n",
       "  <thead>\n",
       "    <tr style=\"text-align: right;\">\n",
       "      <th></th>\n",
       "      <th>Year</th>\n",
       "      <th>State</th>\n",
       "      <th>state_mw</th>\n",
       "      <th>state_mw_2020</th>\n",
       "      <th>fed_mw</th>\n",
       "      <th>fed_mw_2020</th>\n",
       "      <th>effective_mw</th>\n",
       "      <th>effective_mw_2020</th>\n",
       "    </tr>\n",
       "  </thead>\n",
       "  <tbody>\n",
       "    <tr>\n",
       "      <th>0</th>\n",
       "      <td>1968</td>\n",
       "      <td>Alabama</td>\n",
       "      <td>0.00000</td>\n",
       "      <td>0.00</td>\n",
       "      <td>1.15</td>\n",
       "      <td>8.55</td>\n",
       "      <td>1.15</td>\n",
       "      <td>8.55</td>\n",
       "    </tr>\n",
       "    <tr>\n",
       "      <th>1</th>\n",
       "      <td>1968</td>\n",
       "      <td>Alaska</td>\n",
       "      <td>2.10000</td>\n",
       "      <td>15.61</td>\n",
       "      <td>1.15</td>\n",
       "      <td>8.55</td>\n",
       "      <td>2.10</td>\n",
       "      <td>15.61</td>\n",
       "    </tr>\n",
       "    <tr>\n",
       "      <th>2</th>\n",
       "      <td>1968</td>\n",
       "      <td>Arizona</td>\n",
       "      <td>0.46800</td>\n",
       "      <td>3.48</td>\n",
       "      <td>1.15</td>\n",
       "      <td>8.55</td>\n",
       "      <td>1.15</td>\n",
       "      <td>8.55</td>\n",
       "    </tr>\n",
       "    <tr>\n",
       "      <th>3</th>\n",
       "      <td>1968</td>\n",
       "      <td>Arkansas</td>\n",
       "      <td>0.15625</td>\n",
       "      <td>1.16</td>\n",
       "      <td>1.15</td>\n",
       "      <td>8.55</td>\n",
       "      <td>1.15</td>\n",
       "      <td>8.55</td>\n",
       "    </tr>\n",
       "    <tr>\n",
       "      <th>4</th>\n",
       "      <td>1968</td>\n",
       "      <td>California</td>\n",
       "      <td>1.65000</td>\n",
       "      <td>12.26</td>\n",
       "      <td>1.15</td>\n",
       "      <td>8.55</td>\n",
       "      <td>1.65</td>\n",
       "      <td>12.26</td>\n",
       "    </tr>\n",
       "  </tbody>\n",
       "</table>\n",
       "</div>"
      ],
      "text/plain": [
       "   Year       State  state_mw  state_mw_2020  fed_mw  fed_mw_2020  \\\n",
       "0  1968     Alabama   0.00000           0.00    1.15         8.55   \n",
       "1  1968      Alaska   2.10000          15.61    1.15         8.55   \n",
       "2  1968     Arizona   0.46800           3.48    1.15         8.55   \n",
       "3  1968    Arkansas   0.15625           1.16    1.15         8.55   \n",
       "4  1968  California   1.65000          12.26    1.15         8.55   \n",
       "\n",
       "   effective_mw  effective_mw_2020  \n",
       "0          1.15               8.55  \n",
       "1          2.10              15.61  \n",
       "2          1.15               8.55  \n",
       "3          1.15               8.55  \n",
       "4          1.65              12.26  "
      ]
     },
     "execution_count": 11,
     "metadata": {},
     "output_type": "execute_result"
    }
   ],
   "source": [
    "df_mw.head()"
   ]
  },
  {
   "cell_type": "code",
   "execution_count": 12,
   "id": "bd13707c",
   "metadata": {},
   "outputs": [],
   "source": [
    "# Create a dictionary of old name to new name in crime_dict.\n",
    "\n",
    "crime_dict = {'jurisdiction':'state','violent_crime_total':'violen_crime', \n",
    "              'murder_manslaughter':'murder'}"
   ]
  },
  {
   "cell_type": "code",
   "execution_count": 13,
   "id": "60c18af3",
   "metadata": {},
   "outputs": [],
   "source": [
    "df_crime.rename(columns = crime_dict, inplace = True)"
   ]
  },
  {
   "cell_type": "code",
   "execution_count": 14,
   "id": "7315c251",
   "metadata": {},
   "outputs": [
    {
     "data": {
      "text/html": [
       "<div>\n",
       "<style scoped>\n",
       "    .dataframe tbody tr th:only-of-type {\n",
       "        vertical-align: middle;\n",
       "    }\n",
       "\n",
       "    .dataframe tbody tr th {\n",
       "        vertical-align: top;\n",
       "    }\n",
       "\n",
       "    .dataframe thead th {\n",
       "        text-align: right;\n",
       "    }\n",
       "</style>\n",
       "<table border=\"1\" class=\"dataframe\">\n",
       "  <thead>\n",
       "    <tr style=\"text-align: right;\">\n",
       "      <th></th>\n",
       "      <th>state</th>\n",
       "      <th>year</th>\n",
       "      <th>prisoner_count</th>\n",
       "      <th>state_population</th>\n",
       "      <th>violen_crime</th>\n",
       "      <th>murder</th>\n",
       "      <th>robbery</th>\n",
       "      <th>burglary</th>\n",
       "    </tr>\n",
       "  </thead>\n",
       "  <tbody>\n",
       "    <tr>\n",
       "      <th>0</th>\n",
       "      <td>FEDERAL</td>\n",
       "      <td>2001</td>\n",
       "      <td>149852</td>\n",
       "      <td>NaN</td>\n",
       "      <td>NaN</td>\n",
       "      <td>NaN</td>\n",
       "      <td>NaN</td>\n",
       "      <td>NaN</td>\n",
       "    </tr>\n",
       "    <tr>\n",
       "      <th>1</th>\n",
       "      <td>ALABAMA</td>\n",
       "      <td>2001</td>\n",
       "      <td>24741</td>\n",
       "      <td>4468912.0</td>\n",
       "      <td>19582.0</td>\n",
       "      <td>379.0</td>\n",
       "      <td>5584.0</td>\n",
       "      <td>40642.0</td>\n",
       "    </tr>\n",
       "    <tr>\n",
       "      <th>2</th>\n",
       "      <td>ALASKA</td>\n",
       "      <td>2001</td>\n",
       "      <td>4570</td>\n",
       "      <td>633630.0</td>\n",
       "      <td>3735.0</td>\n",
       "      <td>39.0</td>\n",
       "      <td>514.0</td>\n",
       "      <td>3847.0</td>\n",
       "    </tr>\n",
       "    <tr>\n",
       "      <th>3</th>\n",
       "      <td>ARIZONA</td>\n",
       "      <td>2001</td>\n",
       "      <td>27710</td>\n",
       "      <td>5306966.0</td>\n",
       "      <td>28675.0</td>\n",
       "      <td>400.0</td>\n",
       "      <td>8868.0</td>\n",
       "      <td>54821.0</td>\n",
       "    </tr>\n",
       "    <tr>\n",
       "      <th>4</th>\n",
       "      <td>ARKANSAS</td>\n",
       "      <td>2001</td>\n",
       "      <td>11489</td>\n",
       "      <td>2694698.0</td>\n",
       "      <td>12190.0</td>\n",
       "      <td>148.0</td>\n",
       "      <td>2181.0</td>\n",
       "      <td>22196.0</td>\n",
       "    </tr>\n",
       "  </tbody>\n",
       "</table>\n",
       "</div>"
      ],
      "text/plain": [
       "      state  year  prisoner_count  state_population  violen_crime  murder  \\\n",
       "0   FEDERAL  2001          149852               NaN           NaN     NaN   \n",
       "1   ALABAMA  2001           24741         4468912.0       19582.0   379.0   \n",
       "2    ALASKA  2001            4570          633630.0        3735.0    39.0   \n",
       "3   ARIZONA  2001           27710         5306966.0       28675.0   400.0   \n",
       "4  ARKANSAS  2001           11489         2694698.0       12190.0   148.0   \n",
       "\n",
       "   robbery  burglary  \n",
       "0      NaN       NaN  \n",
       "1   5584.0   40642.0  \n",
       "2    514.0    3847.0  \n",
       "3   8868.0   54821.0  \n",
       "4   2181.0   22196.0  "
      ]
     },
     "execution_count": 14,
     "metadata": {},
     "output_type": "execute_result"
    }
   ],
   "source": [
    "df_crime.head()"
   ]
  },
  {
   "cell_type": "markdown",
   "id": "9f3c0255",
   "metadata": {},
   "source": [
    "### 3. Data consistency check"
   ]
  },
  {
   "cell_type": "code",
   "execution_count": 15,
   "id": "aeefc6cb",
   "metadata": {},
   "outputs": [
    {
     "data": {
      "text/plain": [
       "Alabama                 53\n",
       "Puerto Rico             53\n",
       "Nevada                  53\n",
       "New Hampshire           53\n",
       "New Jersey              53\n",
       "New Mexico              53\n",
       "New York                53\n",
       "North Carolina          53\n",
       "North Dakota            53\n",
       "Ohio                    53\n",
       "Oklahoma                53\n",
       "Oregon                  53\n",
       "Pennsylvania            53\n",
       "Rhode Island            53\n",
       "Alaska                  53\n",
       "South Carolina          53\n",
       "South Dakota            53\n",
       "Tennessee               53\n",
       "Texas                   53\n",
       "U.S. Virgin Islands     53\n",
       "Utah                    53\n",
       "Vermont                 53\n",
       "Virginia                53\n",
       "Washington              53\n",
       "West Virginia           53\n",
       "Wisconsin               53\n",
       "Nebraska                53\n",
       "Montana                 53\n",
       "Missouri                53\n",
       "Mississippi             53\n",
       "Arizona                 53\n",
       "Arkansas                53\n",
       "California              53\n",
       "Colorado                53\n",
       "Connecticut             53\n",
       "Delaware                53\n",
       "District of Columbia    53\n",
       "Florida                 53\n",
       "Georgia                 53\n",
       "Guam                    53\n",
       "Hawaii                  53\n",
       "Idaho                   53\n",
       "Illinois                53\n",
       "Indiana                 53\n",
       "Iowa                    53\n",
       "Kansas                  53\n",
       "Kentucky                53\n",
       "Louisiana               53\n",
       "Maine                   53\n",
       "Maryland                53\n",
       "Massachusetts           53\n",
       "Michigan                53\n",
       "Minnesota               53\n",
       "Wyoming                 53\n",
       "Name: State, dtype: int64"
      ]
     },
     "execution_count": 15,
     "metadata": {},
     "output_type": "execute_result"
    }
   ],
   "source": [
    "df_mw['State'].value_counts(dropna = False)"
   ]
  },
  {
   "cell_type": "code",
   "execution_count": 16,
   "id": "8e389b72",
   "metadata": {},
   "outputs": [
    {
     "data": {
      "text/plain": [
       "1968    54\n",
       "1995    54\n",
       "1997    54\n",
       "1998    54\n",
       "1999    54\n",
       "2000    54\n",
       "2001    54\n",
       "2002    54\n",
       "2003    54\n",
       "2004    54\n",
       "2005    54\n",
       "2006    54\n",
       "2007    54\n",
       "2008    54\n",
       "2009    54\n",
       "2010    54\n",
       "2011    54\n",
       "2012    54\n",
       "2013    54\n",
       "2014    54\n",
       "2015    54\n",
       "2016    54\n",
       "2017    54\n",
       "2018    54\n",
       "2019    54\n",
       "1996    54\n",
       "1994    54\n",
       "1969    54\n",
       "1993    54\n",
       "1970    54\n",
       "1971    54\n",
       "1972    54\n",
       "1973    54\n",
       "1974    54\n",
       "1975    54\n",
       "1976    54\n",
       "1977    54\n",
       "1978    54\n",
       "1979    54\n",
       "1980    54\n",
       "1981    54\n",
       "1982    54\n",
       "1983    54\n",
       "1984    54\n",
       "1985    54\n",
       "1986    54\n",
       "1987    54\n",
       "1988    54\n",
       "1989    54\n",
       "1990    54\n",
       "1991    54\n",
       "1992    54\n",
       "2020    54\n",
       "Name: Year, dtype: int64"
      ]
     },
     "execution_count": 16,
     "metadata": {},
     "output_type": "execute_result"
    }
   ],
   "source": [
    "df_mw['Year'].value_counts(dropna = False)"
   ]
  },
  {
   "cell_type": "code",
   "execution_count": 17,
   "id": "3355d816",
   "metadata": {},
   "outputs": [
    {
     "data": {
      "text/plain": [
       "FEDERAL           16\n",
       "PENNSYLVANIA      16\n",
       "NEVADA            16\n",
       "NEW HAMPSHIRE     16\n",
       "NEW JERSEY        16\n",
       "NEW MEXICO        16\n",
       "NEW YORK          16\n",
       "NORTH CAROLINA    16\n",
       "NORTH DAKOTA      16\n",
       "OHIO              16\n",
       "OKLAHOMA          16\n",
       "OREGON            16\n",
       "RHODE ISLAND      16\n",
       "MONTANA           16\n",
       "SOUTH CAROLINA    16\n",
       "SOUTH DAKOTA      16\n",
       "TENNESSEE         16\n",
       "TEXAS             16\n",
       "UTAH              16\n",
       "VERMONT           16\n",
       "VIRGINIA          16\n",
       "WASHINGTON        16\n",
       "WEST VIRGINIA     16\n",
       "WISCONSIN         16\n",
       "NEBRASKA          16\n",
       "MISSOURI          16\n",
       "ALABAMA           16\n",
       "IDAHO             16\n",
       "ALASKA            16\n",
       "ARIZONA           16\n",
       "ARKANSAS          16\n",
       "CALIFORNIA        16\n",
       "COLORADO          16\n",
       "CONNECTICUT       16\n",
       "DELAWARE          16\n",
       "FLORIDA           16\n",
       "GEORGIA           16\n",
       "HAWAII            16\n",
       "ILLINOIS          16\n",
       "MISSISSIPPI       16\n",
       "INDIANA           16\n",
       "IOWA              16\n",
       "KANSAS            16\n",
       "KENTUCKY          16\n",
       "LOUISIANA         16\n",
       "MAINE             16\n",
       "MARYLAND          16\n",
       "MASSACHUSETTS     16\n",
       "MICHIGAN          16\n",
       "MINNESOTA         16\n",
       "WYOMING           16\n",
       "Name: state, dtype: int64"
      ]
     },
     "execution_count": 17,
     "metadata": {},
     "output_type": "execute_result"
    }
   ],
   "source": [
    "df_crime['state'].value_counts(dropna = False)"
   ]
  },
  {
   "cell_type": "code",
   "execution_count": 18,
   "id": "63160060",
   "metadata": {},
   "outputs": [
    {
     "data": {
      "text/plain": [
       "2001    51\n",
       "2002    51\n",
       "2003    51\n",
       "2004    51\n",
       "2005    51\n",
       "2006    51\n",
       "2007    51\n",
       "2008    51\n",
       "2009    51\n",
       "2010    51\n",
       "2011    51\n",
       "2012    51\n",
       "2013    51\n",
       "2014    51\n",
       "2015    51\n",
       "2016    51\n",
       "Name: year, dtype: int64"
      ]
     },
     "execution_count": 18,
     "metadata": {},
     "output_type": "execute_result"
    }
   ],
   "source": [
    "df_crime['year'].value_counts(dropna = False)"
   ]
  },
  {
   "cell_type": "markdown",
   "id": "a3b43ac2",
   "metadata": {},
   "source": [
    "Nothing out of ordinary as for data formatting for Year and State for both dataframes. "
   ]
  },
  {
   "cell_type": "markdown",
   "id": "fdf41cc1",
   "metadata": {},
   "source": [
    "### 4. Data type check"
   ]
  },
  {
   "cell_type": "markdown",
   "id": "94ead047",
   "metadata": {},
   "source": [
    "Here, any data type that take up too much memory will be updated to take up less space. "
   ]
  },
  {
   "cell_type": "code",
   "execution_count": 22,
   "id": "9d1904b2",
   "metadata": {},
   "outputs": [
    {
     "name": "stdout",
     "output_type": "stream",
     "text": [
      "<class 'pandas.core.frame.DataFrame'>\n",
      "RangeIndex: 2862 entries, 0 to 2861\n",
      "Data columns (total 8 columns):\n",
      " #   Column             Non-Null Count  Dtype  \n",
      "---  ------             --------------  -----  \n",
      " 0   Year               2862 non-null   int64  \n",
      " 1   State              2862 non-null   object \n",
      " 2   state_mw           2862 non-null   float64\n",
      " 3   state_mw_2020      2862 non-null   float64\n",
      " 4   fed_mw             2862 non-null   float64\n",
      " 5   fed_mw_2020        2862 non-null   float64\n",
      " 6   effective_mw       2862 non-null   float64\n",
      " 7   effective_mw_2020  2862 non-null   float64\n",
      "dtypes: float64(6), int64(1), object(1)\n",
      "memory usage: 179.0+ KB\n"
     ]
    }
   ],
   "source": [
    "df_mw.info()"
   ]
  },
  {
   "cell_type": "code",
   "execution_count": 23,
   "id": "4f6aacd3",
   "metadata": {},
   "outputs": [
    {
     "data": {
      "text/plain": [
       "Index(['Year', 'State', 'state_mw', 'state_mw_2020', 'fed_mw', 'fed_mw_2020',\n",
       "       'effective_mw', 'effective_mw_2020'],\n",
       "      dtype='object')"
      ]
     },
     "execution_count": 23,
     "metadata": {},
     "output_type": "execute_result"
    }
   ],
   "source": [
    "df_mw.columns"
   ]
  },
  {
   "cell_type": "code",
   "execution_count": 25,
   "id": "64f3462b",
   "metadata": {},
   "outputs": [],
   "source": [
    "# Change data type of Min Wage dataframe.\n",
    "\n",
    "df_mw = df_mw.astype({'Year': 'int32', \n",
    "                'State': 'category',\n",
    "                'state_mw': 'float32', \n",
    "                'state_mw_2020': 'float32', \n",
    "                'fed_mw': 'float32', \n",
    "                'fed_mw_2020': 'float32',\n",
    "                'effective_mw': 'float32', \n",
    "                'effective_mw_2020': 'float32'})"
   ]
  },
  {
   "cell_type": "code",
   "execution_count": 27,
   "id": "272bcf05",
   "metadata": {},
   "outputs": [
    {
     "name": "stdout",
     "output_type": "stream",
     "text": [
      "<class 'pandas.core.frame.DataFrame'>\n",
      "RangeIndex: 2862 entries, 0 to 2861\n",
      "Data columns (total 8 columns):\n",
      " #   Column             Non-Null Count  Dtype   \n",
      "---  ------             --------------  -----   \n",
      " 0   Year               2862 non-null   int32   \n",
      " 1   State              2862 non-null   category\n",
      " 2   state_mw           2862 non-null   float32 \n",
      " 3   state_mw_2020      2862 non-null   float32 \n",
      " 4   fed_mw             2862 non-null   float32 \n",
      " 5   fed_mw_2020        2862 non-null   float32 \n",
      " 6   effective_mw       2862 non-null   float32 \n",
      " 7   effective_mw_2020  2862 non-null   float32 \n",
      "dtypes: category(1), float32(6), int32(1)\n",
      "memory usage: 83.7 KB\n"
     ]
    }
   ],
   "source": [
    "df_mw.info()"
   ]
  },
  {
   "cell_type": "markdown",
   "id": "a299dfe3",
   "metadata": {},
   "source": [
    "Decreased memory usage from 179.0+ KB to 83.7 KB."
   ]
  },
  {
   "cell_type": "code",
   "execution_count": 28,
   "id": "c082b7ab",
   "metadata": {},
   "outputs": [
    {
     "name": "stdout",
     "output_type": "stream",
     "text": [
      "<class 'pandas.core.frame.DataFrame'>\n",
      "RangeIndex: 816 entries, 0 to 815\n",
      "Data columns (total 8 columns):\n",
      " #   Column            Non-Null Count  Dtype  \n",
      "---  ------            --------------  -----  \n",
      " 0   state             816 non-null    object \n",
      " 1   year              816 non-null    int64  \n",
      " 2   prisoner_count    816 non-null    int64  \n",
      " 3   state_population  800 non-null    float64\n",
      " 4   violen_crime      800 non-null    float64\n",
      " 5   murder            800 non-null    float64\n",
      " 6   robbery           800 non-null    float64\n",
      " 7   burglary          800 non-null    float64\n",
      "dtypes: float64(5), int64(2), object(1)\n",
      "memory usage: 51.1+ KB\n"
     ]
    }
   ],
   "source": [
    "df_crime.info()"
   ]
  },
  {
   "cell_type": "code",
   "execution_count": 29,
   "id": "7ee306c6",
   "metadata": {},
   "outputs": [
    {
     "data": {
      "text/plain": [
       "Index(['state', 'year', 'prisoner_count', 'state_population', 'violen_crime',\n",
       "       'murder', 'robbery', 'burglary'],\n",
       "      dtype='object')"
      ]
     },
     "execution_count": 29,
     "metadata": {},
     "output_type": "execute_result"
    }
   ],
   "source": [
    "df_crime.columns"
   ]
  },
  {
   "cell_type": "code",
   "execution_count": 30,
   "id": "23925fee",
   "metadata": {},
   "outputs": [],
   "source": [
    "# Change data types of Crimes df.\n",
    "\n",
    "df_crime = df_crime.astype({'state':'category',\n",
    "                            'year':'int32', \n",
    "                            'prisoner_count':'float32', \n",
    "                            'state_population':'float32', \n",
    "                            'violen_crime':'float32',\n",
    "                            'murder':'float32',  \n",
    "                            'robbery':'float32', \n",
    "                            'burglary':'float32'})"
   ]
  },
  {
   "cell_type": "code",
   "execution_count": 31,
   "id": "35668400",
   "metadata": {},
   "outputs": [
    {
     "name": "stdout",
     "output_type": "stream",
     "text": [
      "<class 'pandas.core.frame.DataFrame'>\n",
      "RangeIndex: 816 entries, 0 to 815\n",
      "Data columns (total 8 columns):\n",
      " #   Column            Non-Null Count  Dtype   \n",
      "---  ------            --------------  -----   \n",
      " 0   state             816 non-null    category\n",
      " 1   year              816 non-null    int32   \n",
      " 2   prisoner_count    816 non-null    float32 \n",
      " 3   state_population  800 non-null    float32 \n",
      " 4   violen_crime      800 non-null    float32 \n",
      " 5   murder            800 non-null    float32 \n",
      " 6   robbery           800 non-null    float32 \n",
      " 7   burglary          800 non-null    float32 \n",
      "dtypes: category(1), float32(6), int32(1)\n",
      "memory usage: 25.7 KB\n"
     ]
    }
   ],
   "source": [
    "df_crime.info()"
   ]
  },
  {
   "cell_type": "markdown",
   "id": "438e6434",
   "metadata": {},
   "source": [
    "Decreased memory usage from 51.1 KB to 25.7 KB."
   ]
  },
  {
   "cell_type": "markdown",
   "id": "b8d10505",
   "metadata": {},
   "source": [
    "Found typo in column name, change 'violen_crime' to 'violent_crime':"
   ]
  },
  {
   "cell_type": "code",
   "execution_count": 32,
   "id": "a376affe",
   "metadata": {},
   "outputs": [],
   "source": [
    "df_crime.rename(columns = {'violen_crime': 'violent_crime'}, inplace = True)"
   ]
  },
  {
   "cell_type": "code",
   "execution_count": 33,
   "id": "e26fb223",
   "metadata": {},
   "outputs": [
    {
     "data": {
      "text/plain": [
       "Index(['state', 'year', 'prisoner_count', 'state_population', 'violent_crime',\n",
       "       'murder', 'robbery', 'burglary'],\n",
       "      dtype='object')"
      ]
     },
     "execution_count": 33,
     "metadata": {},
     "output_type": "execute_result"
    }
   ],
   "source": [
    "df_crime.columns"
   ]
  },
  {
   "cell_type": "markdown",
   "id": "d9562342",
   "metadata": {},
   "source": [
    "### 5. Export dataframes to pickle"
   ]
  },
  {
   "cell_type": "code",
   "execution_count": 34,
   "id": "28cbb55e",
   "metadata": {},
   "outputs": [],
   "source": [
    "df_mw.to_pickle(os.path.join(path, '02_Data', 'PreparedData', 'MinWage_wrangled.pkl'))"
   ]
  },
  {
   "cell_type": "code",
   "execution_count": 35,
   "id": "92b496f9",
   "metadata": {},
   "outputs": [],
   "source": [
    "df_crime.to_pickle(os.path.join(path, '02_Data', 'PreparedData', 'crimes_wrangled.pkl'))"
   ]
  }
 ],
 "metadata": {
  "kernelspec": {
   "display_name": "Python 3 (ipykernel)",
   "language": "python",
   "name": "python3"
  },
  "language_info": {
   "codemirror_mode": {
    "name": "ipython",
    "version": 3
   },
   "file_extension": ".py",
   "mimetype": "text/x-python",
   "name": "python",
   "nbconvert_exporter": "python",
   "pygments_lexer": "ipython3",
   "version": "3.9.7"
  }
 },
 "nbformat": 4,
 "nbformat_minor": 5
}
