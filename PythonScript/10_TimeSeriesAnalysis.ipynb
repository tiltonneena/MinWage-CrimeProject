{
 "cells": [
  {
   "cell_type": "markdown",
   "id": "2d470c5d",
   "metadata": {},
   "source": [
    "## 9. Time Series Analysis\n",
    "\n",
    "### This script contains the following:\n",
    "1. Importing libraries and data\n",
    "2. Subsetting, wrangling, cleaning the time-series data\n",
    "3. Time series analysis: decomposition\n",
    "4. Testing for stationarity\n",
    "5. Testing for autocorrelation\n",
    "6. Stationarizing the data by differencing\n",
    "7. Export stationarized data\n",
    "\n",
    "### 1. Importing libraries and data"
   ]
  },
  {
   "cell_type": "code",
   "execution_count": 2,
   "id": "8a804fad",
   "metadata": {},
   "outputs": [],
   "source": [
    "import quandl\n",
    "import pandas as pd\n",
    "import numpy as np\n",
    "import seaborn as sns\n",
    "import matplotlib\n",
    "import matplotlib.pyplot as plt\n",
    "import statsmodels.api as sm\n",
    "import os\n",
    "import warnings\n",
    "\n",
    "warnings.filterwarnings('ignore')\n",
    "plt.style.use('fivethirtyeight')"
   ]
  },
  {
   "cell_type": "code",
   "execution_count": 3,
   "id": "ee14cdbc",
   "metadata": {},
   "outputs": [],
   "source": [
    "path = r'C:\\Users\\Neena Tilton\\Dropbox\\Projects\\MinWage_Crime'"
   ]
  },
  {
   "cell_type": "code",
   "execution_count": 4,
   "id": "9c318143",
   "metadata": {},
   "outputs": [],
   "source": [
    "df = pd.read_pickle(os.path.join(path, '02_Data', 'PreparedData', 'df_newvar_2.pkl'))"
   ]
  },
  {
   "cell_type": "code",
   "execution_count": 5,
   "id": "0f047b95",
   "metadata": {},
   "outputs": [
    {
     "data": {
      "text/html": [
       "<div>\n",
       "<style scoped>\n",
       "    .dataframe tbody tr th:only-of-type {\n",
       "        vertical-align: middle;\n",
       "    }\n",
       "\n",
       "    .dataframe tbody tr th {\n",
       "        vertical-align: top;\n",
       "    }\n",
       "\n",
       "    .dataframe thead th {\n",
       "        text-align: right;\n",
       "    }\n",
       "</style>\n",
       "<table border=\"1\" class=\"dataframe\">\n",
       "  <thead>\n",
       "    <tr style=\"text-align: right;\">\n",
       "      <th></th>\n",
       "      <th>Year</th>\n",
       "      <th>State</th>\n",
       "      <th>state_mw</th>\n",
       "      <th>state_mw_2020</th>\n",
       "      <th>fed_mw</th>\n",
       "      <th>fed_mw_2020</th>\n",
       "      <th>effective_mw</th>\n",
       "      <th>effective_mw_2020</th>\n",
       "      <th>prisoner_count</th>\n",
       "      <th>state_population</th>\n",
       "      <th>violent_crime</th>\n",
       "      <th>murder</th>\n",
       "      <th>robbery</th>\n",
       "      <th>burglary</th>\n",
       "      <th>incarceration_rate</th>\n",
       "      <th>rate_rank</th>\n",
       "      <th>avg_rate_of_year</th>\n",
       "      <th>viol_crime_rate</th>\n",
       "    </tr>\n",
       "  </thead>\n",
       "  <tbody>\n",
       "    <tr>\n",
       "      <th>0</th>\n",
       "      <td>2001</td>\n",
       "      <td>Alabama</td>\n",
       "      <td>0.00</td>\n",
       "      <td>0.00</td>\n",
       "      <td>5.15</td>\n",
       "      <td>7.52</td>\n",
       "      <td>5.15</td>\n",
       "      <td>7.52</td>\n",
       "      <td>24741.0</td>\n",
       "      <td>4468912.0</td>\n",
       "      <td>19582.0</td>\n",
       "      <td>379.0</td>\n",
       "      <td>5584.0</td>\n",
       "      <td>40642.0</td>\n",
       "      <td>0.005536</td>\n",
       "      <td>High</td>\n",
       "      <td>0.003832</td>\n",
       "      <td>0.004382</td>\n",
       "    </tr>\n",
       "    <tr>\n",
       "      <th>1</th>\n",
       "      <td>2001</td>\n",
       "      <td>Alaska</td>\n",
       "      <td>5.65</td>\n",
       "      <td>8.25</td>\n",
       "      <td>5.15</td>\n",
       "      <td>7.52</td>\n",
       "      <td>5.65</td>\n",
       "      <td>8.25</td>\n",
       "      <td>4570.0</td>\n",
       "      <td>633630.0</td>\n",
       "      <td>3735.0</td>\n",
       "      <td>39.0</td>\n",
       "      <td>514.0</td>\n",
       "      <td>3847.0</td>\n",
       "      <td>0.007212</td>\n",
       "      <td>Unusually High</td>\n",
       "      <td>0.003832</td>\n",
       "      <td>0.005895</td>\n",
       "    </tr>\n",
       "    <tr>\n",
       "      <th>2</th>\n",
       "      <td>2001</td>\n",
       "      <td>Arizona</td>\n",
       "      <td>0.00</td>\n",
       "      <td>0.00</td>\n",
       "      <td>5.15</td>\n",
       "      <td>7.52</td>\n",
       "      <td>5.15</td>\n",
       "      <td>7.52</td>\n",
       "      <td>27710.0</td>\n",
       "      <td>5306966.0</td>\n",
       "      <td>28675.0</td>\n",
       "      <td>400.0</td>\n",
       "      <td>8868.0</td>\n",
       "      <td>54821.0</td>\n",
       "      <td>0.005221</td>\n",
       "      <td>High</td>\n",
       "      <td>0.003832</td>\n",
       "      <td>0.005403</td>\n",
       "    </tr>\n",
       "    <tr>\n",
       "      <th>3</th>\n",
       "      <td>2001</td>\n",
       "      <td>Arkansas</td>\n",
       "      <td>5.15</td>\n",
       "      <td>7.52</td>\n",
       "      <td>5.15</td>\n",
       "      <td>7.52</td>\n",
       "      <td>5.15</td>\n",
       "      <td>7.52</td>\n",
       "      <td>11489.0</td>\n",
       "      <td>2694698.0</td>\n",
       "      <td>12190.0</td>\n",
       "      <td>148.0</td>\n",
       "      <td>2181.0</td>\n",
       "      <td>22196.0</td>\n",
       "      <td>0.004264</td>\n",
       "      <td>Medium</td>\n",
       "      <td>0.003832</td>\n",
       "      <td>0.004524</td>\n",
       "    </tr>\n",
       "    <tr>\n",
       "      <th>4</th>\n",
       "      <td>2001</td>\n",
       "      <td>California</td>\n",
       "      <td>6.25</td>\n",
       "      <td>9.13</td>\n",
       "      <td>5.15</td>\n",
       "      <td>7.52</td>\n",
       "      <td>6.25</td>\n",
       "      <td>9.13</td>\n",
       "      <td>157142.0</td>\n",
       "      <td>34600464.0</td>\n",
       "      <td>212867.0</td>\n",
       "      <td>2206.0</td>\n",
       "      <td>64614.0</td>\n",
       "      <td>232273.0</td>\n",
       "      <td>0.004542</td>\n",
       "      <td>Medium</td>\n",
       "      <td>0.003832</td>\n",
       "      <td>0.006152</td>\n",
       "    </tr>\n",
       "  </tbody>\n",
       "</table>\n",
       "</div>"
      ],
      "text/plain": [
       "   Year       State  state_mw  state_mw_2020  fed_mw  fed_mw_2020  \\\n",
       "0  2001     Alabama      0.00           0.00    5.15         7.52   \n",
       "1  2001      Alaska      5.65           8.25    5.15         7.52   \n",
       "2  2001     Arizona      0.00           0.00    5.15         7.52   \n",
       "3  2001    Arkansas      5.15           7.52    5.15         7.52   \n",
       "4  2001  California      6.25           9.13    5.15         7.52   \n",
       "\n",
       "   effective_mw  effective_mw_2020  prisoner_count  state_population  \\\n",
       "0          5.15               7.52         24741.0         4468912.0   \n",
       "1          5.65               8.25          4570.0          633630.0   \n",
       "2          5.15               7.52         27710.0         5306966.0   \n",
       "3          5.15               7.52         11489.0         2694698.0   \n",
       "4          6.25               9.13        157142.0        34600464.0   \n",
       "\n",
       "   violent_crime  murder  robbery  burglary  incarceration_rate  \\\n",
       "0        19582.0   379.0   5584.0   40642.0            0.005536   \n",
       "1         3735.0    39.0    514.0    3847.0            0.007212   \n",
       "2        28675.0   400.0   8868.0   54821.0            0.005221   \n",
       "3        12190.0   148.0   2181.0   22196.0            0.004264   \n",
       "4       212867.0  2206.0  64614.0  232273.0            0.004542   \n",
       "\n",
       "        rate_rank  avg_rate_of_year  viol_crime_rate  \n",
       "0            High          0.003832         0.004382  \n",
       "1  Unusually High          0.003832         0.005895  \n",
       "2            High          0.003832         0.005403  \n",
       "3          Medium          0.003832         0.004524  \n",
       "4          Medium          0.003832         0.006152  "
      ]
     },
     "execution_count": 5,
     "metadata": {},
     "output_type": "execute_result"
    }
   ],
   "source": [
    "df.head()"
   ]
  },
  {
   "cell_type": "code",
   "execution_count": 6,
   "id": "e175be38",
   "metadata": {},
   "outputs": [
    {
     "data": {
      "text/plain": [
       "(800, 18)"
      ]
     },
     "execution_count": 6,
     "metadata": {},
     "output_type": "execute_result"
    }
   ],
   "source": [
    "df.shape"
   ]
  },
  {
   "cell_type": "code",
   "execution_count": 7,
   "id": "2c4089e3",
   "metadata": {},
   "outputs": [
    {
     "data": {
      "text/plain": [
       "Index(['Year', 'State', 'state_mw', 'state_mw_2020', 'fed_mw', 'fed_mw_2020',\n",
       "       'effective_mw', 'effective_mw_2020', 'prisoner_count',\n",
       "       'state_population', 'violent_crime', 'murder', 'robbery', 'burglary',\n",
       "       'incarceration_rate', 'rate_rank', 'avg_rate_of_year',\n",
       "       'viol_crime_rate'],\n",
       "      dtype='object')"
      ]
     },
     "execution_count": 7,
     "metadata": {},
     "output_type": "execute_result"
    }
   ],
   "source": [
    "df.columns"
   ]
  },
  {
   "cell_type": "markdown",
   "id": "53d3853b",
   "metadata": {},
   "source": [
    "### 2. Subsetting, wrangling, cleaning"
   ]
  },
  {
   "cell_type": "code",
   "execution_count": 8,
   "id": "7851a772",
   "metadata": {},
   "outputs": [],
   "source": [
    "time_states = df[['Year', 'incarceration_rate']]"
   ]
  },
  {
   "cell_type": "code",
   "execution_count": 9,
   "id": "5ab97257",
   "metadata": {},
   "outputs": [
    {
     "data": {
      "text/plain": [
       "Year                  0\n",
       "incarceration_rate    0\n",
       "dtype: int64"
      ]
     },
     "execution_count": 9,
     "metadata": {},
     "output_type": "execute_result"
    }
   ],
   "source": [
    "# Check for missing values\n",
    "\n",
    "time_states.isnull().sum()"
   ]
  },
  {
   "cell_type": "code",
   "execution_count": 10,
   "id": "b3188e7b",
   "metadata": {},
   "outputs": [
    {
     "data": {
      "text/plain": [
       "2001    50\n",
       "2002    50\n",
       "2003    50\n",
       "2004    50\n",
       "2005    50\n",
       "2006    50\n",
       "2007    50\n",
       "2008    50\n",
       "2009    50\n",
       "2010    50\n",
       "2011    50\n",
       "2012    50\n",
       "2013    50\n",
       "2014    50\n",
       "2015    50\n",
       "2016    50\n",
       "Name: Year, dtype: int64"
      ]
     },
     "execution_count": 10,
     "metadata": {},
     "output_type": "execute_result"
    }
   ],
   "source": [
    "time_states['Year'].value_counts()"
   ]
  },
  {
   "cell_type": "code",
   "execution_count": 11,
   "id": "54bcf03e",
   "metadata": {},
   "outputs": [],
   "source": [
    "# Create new dataframe with 'Year' grouped and with mean value of incarceration rate.\n",
    "\n",
    "states_agg = time_states.groupby('Year').agg({'incarceration_rate': ['mean']})"
   ]
  },
  {
   "cell_type": "code",
   "execution_count": 12,
   "id": "52962a28",
   "metadata": {},
   "outputs": [
    {
     "data": {
      "text/plain": [
       "pandas.core.frame.DataFrame"
      ]
     },
     "execution_count": 12,
     "metadata": {},
     "output_type": "execute_result"
    }
   ],
   "source": [
    "type(states_agg)"
   ]
  },
  {
   "cell_type": "code",
   "execution_count": 13,
   "id": "3df42133",
   "metadata": {},
   "outputs": [
    {
     "data": {
      "text/html": [
       "<div>\n",
       "<style scoped>\n",
       "    .dataframe tbody tr th:only-of-type {\n",
       "        vertical-align: middle;\n",
       "    }\n",
       "\n",
       "    .dataframe tbody tr th {\n",
       "        vertical-align: top;\n",
       "    }\n",
       "\n",
       "    .dataframe thead tr th {\n",
       "        text-align: left;\n",
       "    }\n",
       "\n",
       "    .dataframe thead tr:last-of-type th {\n",
       "        text-align: right;\n",
       "    }\n",
       "</style>\n",
       "<table border=\"1\" class=\"dataframe\">\n",
       "  <thead>\n",
       "    <tr>\n",
       "      <th></th>\n",
       "      <th>incarceration_rate</th>\n",
       "    </tr>\n",
       "    <tr>\n",
       "      <th></th>\n",
       "      <th>mean</th>\n",
       "    </tr>\n",
       "    <tr>\n",
       "      <th>Year</th>\n",
       "      <th></th>\n",
       "    </tr>\n",
       "  </thead>\n",
       "  <tbody>\n",
       "    <tr>\n",
       "      <th>2001</th>\n",
       "      <td>0.003832</td>\n",
       "    </tr>\n",
       "    <tr>\n",
       "      <th>2002</th>\n",
       "      <td>0.003896</td>\n",
       "    </tr>\n",
       "    <tr>\n",
       "      <th>2003</th>\n",
       "      <td>0.003938</td>\n",
       "    </tr>\n",
       "    <tr>\n",
       "      <th>2004</th>\n",
       "      <td>0.003959</td>\n",
       "    </tr>\n",
       "    <tr>\n",
       "      <th>2005</th>\n",
       "      <td>0.004013</td>\n",
       "    </tr>\n",
       "  </tbody>\n",
       "</table>\n",
       "</div>"
      ],
      "text/plain": [
       "     incarceration_rate\n",
       "                   mean\n",
       "Year                   \n",
       "2001           0.003832\n",
       "2002           0.003896\n",
       "2003           0.003938\n",
       "2004           0.003959\n",
       "2005           0.004013"
      ]
     },
     "execution_count": 13,
     "metadata": {},
     "output_type": "execute_result"
    }
   ],
   "source": [
    "states_agg.head()"
   ]
  },
  {
   "cell_type": "code",
   "execution_count": 14,
   "id": "2408fc17",
   "metadata": {},
   "outputs": [
    {
     "data": {
      "text/plain": [
       "incarceration_rate  mean    float32\n",
       "dtype: object"
      ]
     },
     "execution_count": 14,
     "metadata": {},
     "output_type": "execute_result"
    }
   ],
   "source": [
    "states_agg.dtypes"
   ]
  },
  {
   "cell_type": "code",
   "execution_count": 17,
   "id": "e8676952",
   "metadata": {},
   "outputs": [],
   "source": [
    "# Reset index column to manipulate 'Year' column as a variable\n",
    "\n",
    "states_reset = states_agg.reset_index()"
   ]
  },
  {
   "cell_type": "code",
   "execution_count": 18,
   "id": "56734f48",
   "metadata": {},
   "outputs": [
    {
     "data": {
      "text/html": [
       "<div>\n",
       "<style scoped>\n",
       "    .dataframe tbody tr th:only-of-type {\n",
       "        vertical-align: middle;\n",
       "    }\n",
       "\n",
       "    .dataframe tbody tr th {\n",
       "        vertical-align: top;\n",
       "    }\n",
       "\n",
       "    .dataframe thead tr th {\n",
       "        text-align: left;\n",
       "    }\n",
       "</style>\n",
       "<table border=\"1\" class=\"dataframe\">\n",
       "  <thead>\n",
       "    <tr>\n",
       "      <th></th>\n",
       "      <th>Year</th>\n",
       "      <th>incarceration_rate</th>\n",
       "    </tr>\n",
       "    <tr>\n",
       "      <th></th>\n",
       "      <th></th>\n",
       "      <th>mean</th>\n",
       "    </tr>\n",
       "  </thead>\n",
       "  <tbody>\n",
       "    <tr>\n",
       "      <th>0</th>\n",
       "      <td>2001</td>\n",
       "      <td>0.003832</td>\n",
       "    </tr>\n",
       "    <tr>\n",
       "      <th>1</th>\n",
       "      <td>2002</td>\n",
       "      <td>0.003896</td>\n",
       "    </tr>\n",
       "    <tr>\n",
       "      <th>2</th>\n",
       "      <td>2003</td>\n",
       "      <td>0.003938</td>\n",
       "    </tr>\n",
       "    <tr>\n",
       "      <th>3</th>\n",
       "      <td>2004</td>\n",
       "      <td>0.003959</td>\n",
       "    </tr>\n",
       "    <tr>\n",
       "      <th>4</th>\n",
       "      <td>2005</td>\n",
       "      <td>0.004013</td>\n",
       "    </tr>\n",
       "  </tbody>\n",
       "</table>\n",
       "</div>"
      ],
      "text/plain": [
       "   Year incarceration_rate\n",
       "                      mean\n",
       "0  2001           0.003832\n",
       "1  2002           0.003896\n",
       "2  2003           0.003938\n",
       "3  2004           0.003959\n",
       "4  2005           0.004013"
      ]
     },
     "execution_count": 18,
     "metadata": {},
     "output_type": "execute_result"
    }
   ],
   "source": [
    "states_reset.head()"
   ]
  },
  {
   "cell_type": "code",
   "execution_count": 19,
   "id": "20d03814",
   "metadata": {},
   "outputs": [],
   "source": [
    "from datetime import datetime\n",
    "\n",
    "states_reset['datetime'] = pd.to_datetime(states_reset['Year'])"
   ]
  },
  {
   "cell_type": "code",
   "execution_count": 20,
   "id": "f3c11297",
   "metadata": {},
   "outputs": [
    {
     "data": {
      "text/html": [
       "<div>\n",
       "<style scoped>\n",
       "    .dataframe tbody tr th:only-of-type {\n",
       "        vertical-align: middle;\n",
       "    }\n",
       "\n",
       "    .dataframe tbody tr th {\n",
       "        vertical-align: top;\n",
       "    }\n",
       "\n",
       "    .dataframe thead tr th {\n",
       "        text-align: left;\n",
       "    }\n",
       "</style>\n",
       "<table border=\"1\" class=\"dataframe\">\n",
       "  <thead>\n",
       "    <tr>\n",
       "      <th></th>\n",
       "      <th>Year</th>\n",
       "      <th>incarceration_rate</th>\n",
       "      <th>datetime</th>\n",
       "    </tr>\n",
       "    <tr>\n",
       "      <th></th>\n",
       "      <th></th>\n",
       "      <th>mean</th>\n",
       "      <th></th>\n",
       "    </tr>\n",
       "  </thead>\n",
       "  <tbody>\n",
       "    <tr>\n",
       "      <th>0</th>\n",
       "      <td>2001</td>\n",
       "      <td>0.003832</td>\n",
       "      <td>1970-01-01 00:00:00.000002001</td>\n",
       "    </tr>\n",
       "    <tr>\n",
       "      <th>1</th>\n",
       "      <td>2002</td>\n",
       "      <td>0.003896</td>\n",
       "      <td>1970-01-01 00:00:00.000002002</td>\n",
       "    </tr>\n",
       "    <tr>\n",
       "      <th>2</th>\n",
       "      <td>2003</td>\n",
       "      <td>0.003938</td>\n",
       "      <td>1970-01-01 00:00:00.000002003</td>\n",
       "    </tr>\n",
       "    <tr>\n",
       "      <th>3</th>\n",
       "      <td>2004</td>\n",
       "      <td>0.003959</td>\n",
       "      <td>1970-01-01 00:00:00.000002004</td>\n",
       "    </tr>\n",
       "    <tr>\n",
       "      <th>4</th>\n",
       "      <td>2005</td>\n",
       "      <td>0.004013</td>\n",
       "      <td>1970-01-01 00:00:00.000002005</td>\n",
       "    </tr>\n",
       "  </tbody>\n",
       "</table>\n",
       "</div>"
      ],
      "text/plain": [
       "   Year incarceration_rate                      datetime\n",
       "                      mean                              \n",
       "0  2001           0.003832 1970-01-01 00:00:00.000002001\n",
       "1  2002           0.003896 1970-01-01 00:00:00.000002002\n",
       "2  2003           0.003938 1970-01-01 00:00:00.000002003\n",
       "3  2004           0.003959 1970-01-01 00:00:00.000002004\n",
       "4  2005           0.004013 1970-01-01 00:00:00.000002005"
      ]
     },
     "execution_count": 20,
     "metadata": {},
     "output_type": "execute_result"
    }
   ],
   "source": [
    "states_reset.head()"
   ]
  },
  {
   "cell_type": "markdown",
   "id": "d4b4641e",
   "metadata": {},
   "source": [
    "The resulting output in the 'datetime' column is not correct because the format was not specified. \n",
    "Drop this column:"
   ]
  },
  {
   "cell_type": "code",
   "execution_count": 21,
   "id": "ed7580c8",
   "metadata": {},
   "outputs": [
    {
     "data": {
      "text/html": [
       "<div>\n",
       "<style scoped>\n",
       "    .dataframe tbody tr th:only-of-type {\n",
       "        vertical-align: middle;\n",
       "    }\n",
       "\n",
       "    .dataframe tbody tr th {\n",
       "        vertical-align: top;\n",
       "    }\n",
       "\n",
       "    .dataframe thead tr th {\n",
       "        text-align: left;\n",
       "    }\n",
       "</style>\n",
       "<table border=\"1\" class=\"dataframe\">\n",
       "  <thead>\n",
       "    <tr>\n",
       "      <th></th>\n",
       "      <th>Year</th>\n",
       "      <th>incarceration_rate</th>\n",
       "    </tr>\n",
       "    <tr>\n",
       "      <th></th>\n",
       "      <th></th>\n",
       "      <th>mean</th>\n",
       "    </tr>\n",
       "  </thead>\n",
       "  <tbody>\n",
       "    <tr>\n",
       "      <th>0</th>\n",
       "      <td>2001</td>\n",
       "      <td>0.003832</td>\n",
       "    </tr>\n",
       "    <tr>\n",
       "      <th>1</th>\n",
       "      <td>2002</td>\n",
       "      <td>0.003896</td>\n",
       "    </tr>\n",
       "    <tr>\n",
       "      <th>2</th>\n",
       "      <td>2003</td>\n",
       "      <td>0.003938</td>\n",
       "    </tr>\n",
       "    <tr>\n",
       "      <th>3</th>\n",
       "      <td>2004</td>\n",
       "      <td>0.003959</td>\n",
       "    </tr>\n",
       "    <tr>\n",
       "      <th>4</th>\n",
       "      <td>2005</td>\n",
       "      <td>0.004013</td>\n",
       "    </tr>\n",
       "    <tr>\n",
       "      <th>5</th>\n",
       "      <td>2006</td>\n",
       "      <td>0.004093</td>\n",
       "    </tr>\n",
       "    <tr>\n",
       "      <th>6</th>\n",
       "      <td>2007</td>\n",
       "      <td>0.004122</td>\n",
       "    </tr>\n",
       "    <tr>\n",
       "      <th>7</th>\n",
       "      <td>2008</td>\n",
       "      <td>0.004091</td>\n",
       "    </tr>\n",
       "    <tr>\n",
       "      <th>8</th>\n",
       "      <td>2009</td>\n",
       "      <td>0.004047</td>\n",
       "    </tr>\n",
       "    <tr>\n",
       "      <th>9</th>\n",
       "      <td>2010</td>\n",
       "      <td>0.004001</td>\n",
       "    </tr>\n",
       "    <tr>\n",
       "      <th>10</th>\n",
       "      <td>2011</td>\n",
       "      <td>0.003964</td>\n",
       "    </tr>\n",
       "    <tr>\n",
       "      <th>11</th>\n",
       "      <td>2012</td>\n",
       "      <td>0.003925</td>\n",
       "    </tr>\n",
       "    <tr>\n",
       "      <th>12</th>\n",
       "      <td>2013</td>\n",
       "      <td>0.003891</td>\n",
       "    </tr>\n",
       "    <tr>\n",
       "      <th>13</th>\n",
       "      <td>2014</td>\n",
       "      <td>0.003906</td>\n",
       "    </tr>\n",
       "    <tr>\n",
       "      <th>14</th>\n",
       "      <td>2015</td>\n",
       "      <td>0.003800</td>\n",
       "    </tr>\n",
       "    <tr>\n",
       "      <th>15</th>\n",
       "      <td>2016</td>\n",
       "      <td>0.003707</td>\n",
       "    </tr>\n",
       "  </tbody>\n",
       "</table>\n",
       "</div>"
      ],
      "text/plain": [
       "    Year incarceration_rate\n",
       "                       mean\n",
       "0   2001           0.003832\n",
       "1   2002           0.003896\n",
       "2   2003           0.003938\n",
       "3   2004           0.003959\n",
       "4   2005           0.004013\n",
       "5   2006           0.004093\n",
       "6   2007           0.004122\n",
       "7   2008           0.004091\n",
       "8   2009           0.004047\n",
       "9   2010           0.004001\n",
       "10  2011           0.003964\n",
       "11  2012           0.003925\n",
       "12  2013           0.003891\n",
       "13  2014           0.003906\n",
       "14  2015           0.003800\n",
       "15  2016           0.003707"
      ]
     },
     "execution_count": 21,
     "metadata": {},
     "output_type": "execute_result"
    }
   ],
   "source": [
    "states_reset.drop(columns = ['datetime'])"
   ]
  },
  {
   "cell_type": "code",
   "execution_count": 22,
   "id": "cbe7abc7",
   "metadata": {},
   "outputs": [],
   "source": [
    "# To manipulate the YYYY format in 'Year' column, convert data type from integer to string. \n",
    "\n",
    "states_reset['Year'] = states_reset['Year'].astype(str)"
   ]
  },
  {
   "cell_type": "code",
   "execution_count": 23,
   "id": "2781679e",
   "metadata": {},
   "outputs": [
    {
     "data": {
      "text/plain": [
       "Year                                object\n",
       "incarceration_rate  mean           float32\n",
       "datetime                    datetime64[ns]\n",
       "dtype: object"
      ]
     },
     "execution_count": 23,
     "metadata": {},
     "output_type": "execute_result"
    }
   ],
   "source": [
    "states_reset.dtypes"
   ]
  },
  {
   "cell_type": "code",
   "execution_count": 24,
   "id": "2c37921b",
   "metadata": {},
   "outputs": [],
   "source": [
    "states_reset['datetime'] = pd.to_datetime(states_reset['Year'], format='%Y')"
   ]
  },
  {
   "cell_type": "code",
   "execution_count": 25,
   "id": "c2e683ec",
   "metadata": {},
   "outputs": [
    {
     "data": {
      "text/html": [
       "<div>\n",
       "<style scoped>\n",
       "    .dataframe tbody tr th:only-of-type {\n",
       "        vertical-align: middle;\n",
       "    }\n",
       "\n",
       "    .dataframe tbody tr th {\n",
       "        vertical-align: top;\n",
       "    }\n",
       "\n",
       "    .dataframe thead tr th {\n",
       "        text-align: left;\n",
       "    }\n",
       "</style>\n",
       "<table border=\"1\" class=\"dataframe\">\n",
       "  <thead>\n",
       "    <tr>\n",
       "      <th></th>\n",
       "      <th>Year</th>\n",
       "      <th>incarceration_rate</th>\n",
       "      <th>datetime</th>\n",
       "    </tr>\n",
       "    <tr>\n",
       "      <th></th>\n",
       "      <th></th>\n",
       "      <th>mean</th>\n",
       "      <th></th>\n",
       "    </tr>\n",
       "  </thead>\n",
       "  <tbody>\n",
       "    <tr>\n",
       "      <th>0</th>\n",
       "      <td>2001</td>\n",
       "      <td>0.003832</td>\n",
       "      <td>2001-01-01</td>\n",
       "    </tr>\n",
       "    <tr>\n",
       "      <th>1</th>\n",
       "      <td>2002</td>\n",
       "      <td>0.003896</td>\n",
       "      <td>2002-01-01</td>\n",
       "    </tr>\n",
       "    <tr>\n",
       "      <th>2</th>\n",
       "      <td>2003</td>\n",
       "      <td>0.003938</td>\n",
       "      <td>2003-01-01</td>\n",
       "    </tr>\n",
       "    <tr>\n",
       "      <th>3</th>\n",
       "      <td>2004</td>\n",
       "      <td>0.003959</td>\n",
       "      <td>2004-01-01</td>\n",
       "    </tr>\n",
       "    <tr>\n",
       "      <th>4</th>\n",
       "      <td>2005</td>\n",
       "      <td>0.004013</td>\n",
       "      <td>2005-01-01</td>\n",
       "    </tr>\n",
       "  </tbody>\n",
       "</table>\n",
       "</div>"
      ],
      "text/plain": [
       "   Year incarceration_rate   datetime\n",
       "                      mean           \n",
       "0  2001           0.003832 2001-01-01\n",
       "1  2002           0.003896 2002-01-01\n",
       "2  2003           0.003938 2003-01-01\n",
       "3  2004           0.003959 2004-01-01\n",
       "4  2005           0.004013 2005-01-01"
      ]
     },
     "execution_count": 25,
     "metadata": {},
     "output_type": "execute_result"
    }
   ],
   "source": [
    "states_reset.head()"
   ]
  },
  {
   "cell_type": "code",
   "execution_count": 26,
   "id": "e3d87245",
   "metadata": {},
   "outputs": [
    {
     "data": {
      "text/html": [
       "<div>\n",
       "<style scoped>\n",
       "    .dataframe tbody tr th:only-of-type {\n",
       "        vertical-align: middle;\n",
       "    }\n",
       "\n",
       "    .dataframe tbody tr th {\n",
       "        vertical-align: top;\n",
       "    }\n",
       "\n",
       "    .dataframe thead tr th {\n",
       "        text-align: left;\n",
       "    }\n",
       "\n",
       "    .dataframe thead tr:last-of-type th {\n",
       "        text-align: right;\n",
       "    }\n",
       "</style>\n",
       "<table border=\"1\" class=\"dataframe\">\n",
       "  <thead>\n",
       "    <tr>\n",
       "      <th></th>\n",
       "      <th>incarceration_rate</th>\n",
       "    </tr>\n",
       "    <tr>\n",
       "      <th></th>\n",
       "      <th>mean</th>\n",
       "    </tr>\n",
       "    <tr>\n",
       "      <th>datetime</th>\n",
       "      <th></th>\n",
       "    </tr>\n",
       "  </thead>\n",
       "  <tbody>\n",
       "    <tr>\n",
       "      <th>2001-01-01</th>\n",
       "      <td>0.003832</td>\n",
       "    </tr>\n",
       "    <tr>\n",
       "      <th>2002-01-01</th>\n",
       "      <td>0.003896</td>\n",
       "    </tr>\n",
       "    <tr>\n",
       "      <th>2003-01-01</th>\n",
       "      <td>0.003938</td>\n",
       "    </tr>\n",
       "    <tr>\n",
       "      <th>2004-01-01</th>\n",
       "      <td>0.003959</td>\n",
       "    </tr>\n",
       "    <tr>\n",
       "      <th>2005-01-01</th>\n",
       "      <td>0.004013</td>\n",
       "    </tr>\n",
       "  </tbody>\n",
       "</table>\n",
       "</div>"
      ],
      "text/plain": [
       "           incarceration_rate\n",
       "                         mean\n",
       "datetime                     \n",
       "2001-01-01           0.003832\n",
       "2002-01-01           0.003896\n",
       "2003-01-01           0.003938\n",
       "2004-01-01           0.003959\n",
       "2005-01-01           0.004013"
      ]
     },
     "execution_count": 26,
     "metadata": {},
     "output_type": "execute_result"
    }
   ],
   "source": [
    "# Set datetime column as index and drop original 'Year' column\n",
    "\n",
    "states_reset = states_reset.set_index('datetime')\n",
    "states_reset.drop(['Year'], axis = 1, inplace = True)\n",
    "states_reset.head()"
   ]
  },
  {
   "cell_type": "code",
   "execution_count": 27,
   "id": "d998dc7b",
   "metadata": {},
   "outputs": [
    {
     "data": {
      "text/plain": [
       "[<matplotlib.lines.Line2D at 0x2899ea321f0>]"
      ]
     },
     "execution_count": 27,
     "metadata": {},
     "output_type": "execute_result"
    },
    {
     "data": {
      "image/png": "[encoded data removed]",
      "text/plain": [
       "<Figure size 1500x500 with 1 Axes>"
      ]
     },
     "metadata": {},
     "output_type": "display_data"
    }
   ],
   "source": [
    "# Plot the time series data\n",
    "\n",
    "plt.figure(figsize=(15,5), dpi=100)\n",
    "plt.plot(states_reset)"
   ]
  },
  {
   "cell_type": "markdown",
   "id": "e960028b",
   "metadata": {},
   "source": [
    "### 3. Time-series analysis: decomposition"
   ]
  },
  {
   "cell_type": "code",
   "execution_count": 28,
   "id": "e9003390",
   "metadata": {},
   "outputs": [],
   "source": [
    "# There is not linear trend, instead looks as though its exponential, thus decompose this time series using an multiplicative model.\n",
    "\n",
    "decomp = sm.tsa.seasonal_decompose(states_reset, model = 'multiplicative')"
   ]
  },
  {
   "cell_type": "code",
   "execution_count": 29,
   "id": "42fa5cd4",
   "metadata": {},
   "outputs": [],
   "source": [
    "from pylab import rcParams # To define a fixed size for all charts.\n",
    "\n",
    "rcParams['figure.figsize'] = 18, 7"
   ]
  },
  {
   "cell_type": "code",
   "execution_count": 30,
   "id": "f9486e9c",
   "metadata": {},
   "outputs": [
    {
     "data": {
      "image/png": "[encoded data removed]",
      "text/plain": [
       "<Figure size 1296x504 with 4 Axes>"
      ]
     },
     "metadata": {},
     "output_type": "display_data"
    }
   ],
   "source": [
    "# Plot decomposition of time-series data\n",
    "\n",
    "decomp.plot()\n",
    "plt.show()"
   ]
  },
  {
   "cell_type": "markdown",
   "id": "9d3ffdf1",
   "metadata": {},
   "source": [
    "From the decomposition of the time-series data, we can see that there was an upward trend from 2001 to 2007, then the incarceration ratstarted to go downwards. There is no seasonality to this data. There is a consistent amount of noise unexplained by the trend. "
   ]
  },
  {
   "cell_type": "markdown",
   "id": "114a7ea0",
   "metadata": {},
   "source": [
    "### 4. Testing for stationarity\n",
    "To apply any forecasting model, we need the time-series data to have stationarity. Even with just a glimpse and seeing the trend line shown in the decomposition, we know that this data is not stationary. We can force stationarity onto the data by differencing. Before we do so, a Dickey-Fuller test will be conducted to see how the differencing is affecting the stationarity.  "
   ]
  },
  {
   "cell_type": "code",
   "execution_count": 31,
   "id": "ac5478e4",
   "metadata": {},
   "outputs": [
    {
     "name": "stdout",
     "output_type": "stream",
     "text": [
      "Dickey-Fuller Stationarity test:\n",
      "Test Statistic                 2.101671\n",
      "p-value                        0.998791\n",
      "Number of Lags Used            6.000000\n",
      "Number of Observations Used    9.000000\n",
      "Critical Value (1%)           -4.473135\n",
      "Critical Value (5%)           -3.289881\n",
      "Critical Value (10%)          -2.772382\n",
      "dtype: float64\n"
     ]
    }
   ],
   "source": [
    "from statsmodels.tsa.stattools import adfuller \n",
    "\n",
    "def dickey_fuller(timeseries): \n",
    "    print ('Dickey-Fuller Stationarity test:')\n",
    "    test = adfuller(timeseries, autolag='AIC')\n",
    "    result = pd.Series(test[0:4], index=['Test Statistic','p-value','Number of Lags Used','Number of Observations Used'])\n",
    "    for key,value in test[4].items():\n",
    "       result['Critical Value (%s)'%key] = value\n",
    "    print (result)\n",
    "\n",
    "# Apply the test using the function on the time series\n",
    "dickey_fuller(states_reset['incarceration_rate'])"
   ]
  },
  {
   "cell_type": "markdown",
   "id": "c5a699ef",
   "metadata": {},
   "source": [
    "The test statistic value is not smaller than the critical value even at 10% (0.99 !< -2.77). This test statistically supports that this data set is not stationary. "
   ]
  },
  {
   "cell_type": "markdown",
   "id": "2c73021d",
   "metadata": {},
   "source": [
    "### 5. Testing for autocorrelations"
   ]
  },
  {
   "cell_type": "code",
   "execution_count": 32,
   "id": "13eac00c",
   "metadata": {},
   "outputs": [
    {
     "data": {
      "image/png": "[encoded data removed]",
      "text/plain": [
       "<Figure size 1296x504 with 1 Axes>"
      ]
     },
     "metadata": {},
     "output_type": "display_data"
    }
   ],
   "source": [
    "from statsmodels.graphics.tsaplots import plot_acf, plot_pacf \n",
    "\n",
    "plot_acf(states_reset)\n",
    "plt.show()"
   ]
  },
  {
   "cell_type": "markdown",
   "id": "6360b362",
   "metadata": {},
   "source": [
    "The indication that the data is non-stationary is not strong based on autocorrelation. "
   ]
  },
  {
   "cell_type": "markdown",
   "id": "584e32ed",
   "metadata": {},
   "source": [
    "### 6. Stationarizing the data by differencing"
   ]
  },
  {
   "cell_type": "code",
   "execution_count": 33,
   "id": "a9b47f6c",
   "metadata": {},
   "outputs": [],
   "source": [
    "# Run initial round of differencing\n",
    "\n",
    "data_diff = states_reset - states_reset.shift(1)"
   ]
  },
  {
   "cell_type": "code",
   "execution_count": 34,
   "id": "9dbfdac0",
   "metadata": {},
   "outputs": [],
   "source": [
    "# Remove missing values that came about as a result of differencing. \n",
    "\n",
    "data_diff.dropna(inplace = True)"
   ]
  },
  {
   "cell_type": "code",
   "execution_count": 35,
   "id": "e42906a6",
   "metadata": {},
   "outputs": [
    {
     "data": {
      "text/html": [
       "<div>\n",
       "<style scoped>\n",
       "    .dataframe tbody tr th:only-of-type {\n",
       "        vertical-align: middle;\n",
       "    }\n",
       "\n",
       "    .dataframe tbody tr th {\n",
       "        vertical-align: top;\n",
       "    }\n",
       "\n",
       "    .dataframe thead tr th {\n",
       "        text-align: left;\n",
       "    }\n",
       "\n",
       "    .dataframe thead tr:last-of-type th {\n",
       "        text-align: right;\n",
       "    }\n",
       "</style>\n",
       "<table border=\"1\" class=\"dataframe\">\n",
       "  <thead>\n",
       "    <tr>\n",
       "      <th></th>\n",
       "      <th>incarceration_rate</th>\n",
       "    </tr>\n",
       "    <tr>\n",
       "      <th></th>\n",
       "      <th>mean</th>\n",
       "    </tr>\n",
       "    <tr>\n",
       "      <th>datetime</th>\n",
       "      <th></th>\n",
       "    </tr>\n",
       "  </thead>\n",
       "  <tbody>\n",
       "    <tr>\n",
       "      <th>2002-01-01</th>\n",
       "      <td>0.000065</td>\n",
       "    </tr>\n",
       "    <tr>\n",
       "      <th>2003-01-01</th>\n",
       "      <td>0.000042</td>\n",
       "    </tr>\n",
       "    <tr>\n",
       "      <th>2004-01-01</th>\n",
       "      <td>0.000021</td>\n",
       "    </tr>\n",
       "    <tr>\n",
       "      <th>2005-01-01</th>\n",
       "      <td>0.000053</td>\n",
       "    </tr>\n",
       "    <tr>\n",
       "      <th>2006-01-01</th>\n",
       "      <td>0.000081</td>\n",
       "    </tr>\n",
       "  </tbody>\n",
       "</table>\n",
       "</div>"
      ],
      "text/plain": [
       "           incarceration_rate\n",
       "                         mean\n",
       "datetime                     \n",
       "2002-01-01           0.000065\n",
       "2003-01-01           0.000042\n",
       "2004-01-01           0.000021\n",
       "2005-01-01           0.000053\n",
       "2006-01-01           0.000081"
      ]
     },
     "execution_count": 35,
     "metadata": {},
     "output_type": "execute_result"
    }
   ],
   "source": [
    "data_diff.head()"
   ]
  },
  {
   "cell_type": "code",
   "execution_count": 36,
   "id": "555e5835",
   "metadata": {},
   "outputs": [
    {
     "data": {
      "text/plain": [
       "[<matplotlib.lines.Line2D at 0x2899e849550>]"
      ]
     },
     "execution_count": 36,
     "metadata": {},
     "output_type": "execute_result"
    },
    {
     "data": {
      "image/png": "[encoded data removed]",
      "text/plain": [
       "<Figure size 1500x500 with 1 Axes>"
      ]
     },
     "metadata": {},
     "output_type": "display_data"
    }
   ],
   "source": [
    "# Plot time-series curve of data after differencing.\n",
    "\n",
    "plt.figure(figsize = (15,5), dpi = 100)\n",
    "plt.plot(data_diff)"
   ]
  },
  {
   "cell_type": "code",
   "execution_count": 37,
   "id": "92297229",
   "metadata": {},
   "outputs": [
    {
     "name": "stdout",
     "output_type": "stream",
     "text": [
      "Dickey-Fuller Stationarity test:\n",
      "Test Statistic                 -1.407138\n",
      "p-value                         0.578849\n",
      "Number of Lags Used             0.000000\n",
      "Number of Observations Used    14.000000\n",
      "Critical Value (1%)            -4.012034\n",
      "Critical Value (5%)            -3.104184\n",
      "Critical Value (10%)           -2.690987\n",
      "dtype: float64\n"
     ]
    }
   ],
   "source": [
    "# Run the Dickey-Fuller test to see if differenced data is stationary.\n",
    "\n",
    "dickey_fuller(data_diff)"
   ]
  },
  {
   "cell_type": "markdown",
   "id": "5728e988",
   "metadata": {},
   "source": [
    "The test statistics is still greater than the critical value even at 10% (0.57 !< -2.69) to reject the null-hypothesis and the p-value is still too large (0.58 > 0.05) to deem statistically significant. Therefore, the data at this stage is still non-stationary.\n",
    "\n",
    "Run another round of differencing in attempt bring stationarity to the data:"
   ]
  },
  {
   "cell_type": "code",
   "execution_count": 38,
   "id": "7e1cc209",
   "metadata": {},
   "outputs": [],
   "source": [
    "data_diff_2 = data_diff - data_diff.shift(1)"
   ]
  },
  {
   "cell_type": "code",
   "execution_count": 39,
   "id": "a7485d0f",
   "metadata": {},
   "outputs": [],
   "source": [
    "data_diff_2.dropna(inplace=True)"
   ]
  },
  {
   "cell_type": "code",
   "execution_count": 40,
   "id": "b2ca17cf",
   "metadata": {},
   "outputs": [
    {
     "data": {
      "text/html": [
       "<div>\n",
       "<style scoped>\n",
       "    .dataframe tbody tr th:only-of-type {\n",
       "        vertical-align: middle;\n",
       "    }\n",
       "\n",
       "    .dataframe tbody tr th {\n",
       "        vertical-align: top;\n",
       "    }\n",
       "\n",
       "    .dataframe thead tr th {\n",
       "        text-align: left;\n",
       "    }\n",
       "\n",
       "    .dataframe thead tr:last-of-type th {\n",
       "        text-align: right;\n",
       "    }\n",
       "</style>\n",
       "<table border=\"1\" class=\"dataframe\">\n",
       "  <thead>\n",
       "    <tr>\n",
       "      <th></th>\n",
       "      <th>incarceration_rate</th>\n",
       "    </tr>\n",
       "    <tr>\n",
       "      <th></th>\n",
       "      <th>mean</th>\n",
       "    </tr>\n",
       "    <tr>\n",
       "      <th>datetime</th>\n",
       "      <th></th>\n",
       "    </tr>\n",
       "  </thead>\n",
       "  <tbody>\n",
       "    <tr>\n",
       "      <th>2003-01-01</th>\n",
       "      <td>-0.000023</td>\n",
       "    </tr>\n",
       "    <tr>\n",
       "      <th>2004-01-01</th>\n",
       "      <td>-0.000021</td>\n",
       "    </tr>\n",
       "    <tr>\n",
       "      <th>2005-01-01</th>\n",
       "      <td>0.000032</td>\n",
       "    </tr>\n",
       "    <tr>\n",
       "      <th>2006-01-01</th>\n",
       "      <td>0.000027</td>\n",
       "    </tr>\n",
       "    <tr>\n",
       "      <th>2007-01-01</th>\n",
       "      <td>-0.000052</td>\n",
       "    </tr>\n",
       "  </tbody>\n",
       "</table>\n",
       "</div>"
      ],
      "text/plain": [
       "           incarceration_rate\n",
       "                         mean\n",
       "datetime                     \n",
       "2003-01-01          -0.000023\n",
       "2004-01-01          -0.000021\n",
       "2005-01-01           0.000032\n",
       "2006-01-01           0.000027\n",
       "2007-01-01          -0.000052"
      ]
     },
     "execution_count": 40,
     "metadata": {},
     "output_type": "execute_result"
    }
   ],
   "source": [
    "data_diff_2.head()"
   ]
  },
  {
   "cell_type": "code",
   "execution_count": 41,
   "id": "bef5ee77",
   "metadata": {},
   "outputs": [
    {
     "data": {
      "text/plain": [
       "[<matplotlib.lines.Line2D at 0x2899f1f66a0>]"
      ]
     },
     "execution_count": 41,
     "metadata": {},
     "output_type": "execute_result"
    },
    {
     "data": {
      "image/png": "[encoded data removed]",
      "text/plain": [
       "<Figure size 1500x500 with 1 Axes>"
      ]
     },
     "metadata": {},
     "output_type": "display_data"
    }
   ],
   "source": [
    "# Plot time-series curve of data after second round of differencing.\n",
    "\n",
    "plt.figure(figsize = (15,5), dpi = 100)\n",
    "plt.plot(data_diff_2)"
   ]
  },
  {
   "cell_type": "code",
   "execution_count": 42,
   "id": "c460ed43",
   "metadata": {},
   "outputs": [
    {
     "name": "stdout",
     "output_type": "stream",
     "text": [
      "Dickey-Fuller Stationarity test:\n",
      "Test Statistic                -5.593551\n",
      "p-value                        0.000001\n",
      "Number of Lags Used            5.000000\n",
      "Number of Observations Used    8.000000\n",
      "Critical Value (1%)           -4.665186\n",
      "Critical Value (5%)           -3.367187\n",
      "Critical Value (10%)          -2.802961\n",
      "dtype: float64\n"
     ]
    }
   ],
   "source": [
    "# Run the Dickey-Fuller test to see if second differenced data is stationary.\n",
    "\n",
    "dickey_fuller(data_diff_2)"
   ]
  },
  {
   "cell_type": "markdown",
   "id": "e5bf3d46",
   "metadata": {},
   "source": [
    "Here, the test statistics is now less than the critical value at 1% (-5.59 < -4.66). Also, the p-value is much much smaller than significance level of 0.05 (0.000001 << 0.05), therefore it is statistically significant. The data is now stationary and ready to be applied for forecasting."
   ]
  },
  {
   "cell_type": "markdown",
   "id": "fc5564b3",
   "metadata": {},
   "source": [
    "### 7. Export stationarized dataframe"
   ]
  },
  {
   "cell_type": "code",
   "execution_count": 43,
   "id": "4ebd0ca8",
   "metadata": {},
   "outputs": [],
   "source": [
    "# Export data for future forecasting implementation.\n",
    "\n",
    "data_diff_2.to_pickle(os.path.join(path, '02_Data', 'PreparedData', 'incrate_stationarized.pkl'))"
   ]
  }
 ],
 "metadata": {
  "kernelspec": {
   "display_name": "Python 3 (ipykernel)",
   "language": "python",
   "name": "python3"
  },
  "language_info": {
   "codemirror_mode": {
    "name": "ipython",
    "version": 3
   },
   "file_extension": ".py",
   "mimetype": "text/x-python",
   "name": "python",
   "nbconvert_exporter": "python",
   "pygments_lexer": "ipython3",
   "version": "3.9.7"
  }
 },
 "nbformat": 4,
 "nbformat_minor": 5
}
