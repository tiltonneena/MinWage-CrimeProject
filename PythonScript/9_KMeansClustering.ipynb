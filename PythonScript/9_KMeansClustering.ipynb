{
 "cells": [
  {
   "cell_type": "markdown",
   "id": "3b5d43a4",
   "metadata": {},
   "source": [
    "## 9. K-Means Clustering\n",
    "\n",
    "### This script contains the following:\n",
    "1. Importing libraries and data\n",
    "2. Standardize data\n",
    "3. Elbow technique to determine n-clusters\n",
    "4. k-Means clustering\n",
    "5. Export subset dataframe"
   ]
  },
  {
   "cell_type": "markdown",
   "id": "3b593b20",
   "metadata": {},
   "source": [
    "### 1. Importing libraries and data"
   ]
  },
  {
   "cell_type": "code",
   "execution_count": 1,
   "id": "63e98062",
   "metadata": {},
   "outputs": [],
   "source": [
    "import numpy as np\n",
    "import pandas as pd\n",
    "import seaborn as sns\n",
    "import os\n",
    "import sklearn\n",
    "import matplotlib\n",
    "import matplotlib.pyplot as plt\n",
    "from sklearn.cluster import KMeans\n",
    "import pylab as pl"
   ]
  },
  {
   "cell_type": "code",
   "execution_count": 2,
   "id": "ca5f61d0",
   "metadata": {},
   "outputs": [],
   "source": [
    "%matplotlib inline"
   ]
  },
  {
   "cell_type": "code",
   "execution_count": 3,
   "id": "ac5ec5d5",
   "metadata": {},
   "outputs": [],
   "source": [
    "path = r'C:\\Users\\Neena Tilton\\Dropbox\\Projects\\MinWage_Crime'"
   ]
  },
  {
   "cell_type": "code",
   "execution_count": 4,
   "id": "a166893d",
   "metadata": {},
   "outputs": [],
   "source": [
    "df = pd.read_pickle(os.path.join(path, '02_Data', 'PreparedData', 'df_newvar_2.pkl'))"
   ]
  },
  {
   "cell_type": "code",
   "execution_count": 5,
   "id": "f90db45e",
   "metadata": {},
   "outputs": [
    {
     "data": {
      "text/html": [
       "<div>\n",
       "<style scoped>\n",
       "    .dataframe tbody tr th:only-of-type {\n",
       "        vertical-align: middle;\n",
       "    }\n",
       "\n",
       "    .dataframe tbody tr th {\n",
       "        vertical-align: top;\n",
       "    }\n",
       "\n",
       "    .dataframe thead th {\n",
       "        text-align: right;\n",
       "    }\n",
       "</style>\n",
       "<table border=\"1\" class=\"dataframe\">\n",
       "  <thead>\n",
       "    <tr style=\"text-align: right;\">\n",
       "      <th></th>\n",
       "      <th>Year</th>\n",
       "      <th>State</th>\n",
       "      <th>state_mw</th>\n",
       "      <th>state_mw_2020</th>\n",
       "      <th>fed_mw</th>\n",
       "      <th>fed_mw_2020</th>\n",
       "      <th>effective_mw</th>\n",
       "      <th>effective_mw_2020</th>\n",
       "      <th>prisoner_count</th>\n",
       "      <th>state_population</th>\n",
       "      <th>violent_crime</th>\n",
       "      <th>murder</th>\n",
       "      <th>robbery</th>\n",
       "      <th>burglary</th>\n",
       "      <th>incarceration_rate</th>\n",
       "      <th>rate_rank</th>\n",
       "      <th>avg_rate_of_year</th>\n",
       "      <th>viol_crime_rate</th>\n",
       "    </tr>\n",
       "  </thead>\n",
       "  <tbody>\n",
       "    <tr>\n",
       "      <th>0</th>\n",
       "      <td>2001</td>\n",
       "      <td>Alabama</td>\n",
       "      <td>0.00</td>\n",
       "      <td>0.00</td>\n",
       "      <td>5.15</td>\n",
       "      <td>7.52</td>\n",
       "      <td>5.15</td>\n",
       "      <td>7.52</td>\n",
       "      <td>24741.0</td>\n",
       "      <td>4468912.0</td>\n",
       "      <td>19582.0</td>\n",
       "      <td>379.0</td>\n",
       "      <td>5584.0</td>\n",
       "      <td>40642.0</td>\n",
       "      <td>0.005536</td>\n",
       "      <td>High</td>\n",
       "      <td>0.003832</td>\n",
       "      <td>0.004382</td>\n",
       "    </tr>\n",
       "    <tr>\n",
       "      <th>1</th>\n",
       "      <td>2001</td>\n",
       "      <td>Alaska</td>\n",
       "      <td>5.65</td>\n",
       "      <td>8.25</td>\n",
       "      <td>5.15</td>\n",
       "      <td>7.52</td>\n",
       "      <td>5.65</td>\n",
       "      <td>8.25</td>\n",
       "      <td>4570.0</td>\n",
       "      <td>633630.0</td>\n",
       "      <td>3735.0</td>\n",
       "      <td>39.0</td>\n",
       "      <td>514.0</td>\n",
       "      <td>3847.0</td>\n",
       "      <td>0.007212</td>\n",
       "      <td>Unusually High</td>\n",
       "      <td>0.003832</td>\n",
       "      <td>0.005895</td>\n",
       "    </tr>\n",
       "    <tr>\n",
       "      <th>2</th>\n",
       "      <td>2001</td>\n",
       "      <td>Arizona</td>\n",
       "      <td>0.00</td>\n",
       "      <td>0.00</td>\n",
       "      <td>5.15</td>\n",
       "      <td>7.52</td>\n",
       "      <td>5.15</td>\n",
       "      <td>7.52</td>\n",
       "      <td>27710.0</td>\n",
       "      <td>5306966.0</td>\n",
       "      <td>28675.0</td>\n",
       "      <td>400.0</td>\n",
       "      <td>8868.0</td>\n",
       "      <td>54821.0</td>\n",
       "      <td>0.005221</td>\n",
       "      <td>High</td>\n",
       "      <td>0.003832</td>\n",
       "      <td>0.005403</td>\n",
       "    </tr>\n",
       "    <tr>\n",
       "      <th>3</th>\n",
       "      <td>2001</td>\n",
       "      <td>Arkansas</td>\n",
       "      <td>5.15</td>\n",
       "      <td>7.52</td>\n",
       "      <td>5.15</td>\n",
       "      <td>7.52</td>\n",
       "      <td>5.15</td>\n",
       "      <td>7.52</td>\n",
       "      <td>11489.0</td>\n",
       "      <td>2694698.0</td>\n",
       "      <td>12190.0</td>\n",
       "      <td>148.0</td>\n",
       "      <td>2181.0</td>\n",
       "      <td>22196.0</td>\n",
       "      <td>0.004264</td>\n",
       "      <td>Medium</td>\n",
       "      <td>0.003832</td>\n",
       "      <td>0.004524</td>\n",
       "    </tr>\n",
       "    <tr>\n",
       "      <th>4</th>\n",
       "      <td>2001</td>\n",
       "      <td>California</td>\n",
       "      <td>6.25</td>\n",
       "      <td>9.13</td>\n",
       "      <td>5.15</td>\n",
       "      <td>7.52</td>\n",
       "      <td>6.25</td>\n",
       "      <td>9.13</td>\n",
       "      <td>157142.0</td>\n",
       "      <td>34600464.0</td>\n",
       "      <td>212867.0</td>\n",
       "      <td>2206.0</td>\n",
       "      <td>64614.0</td>\n",
       "      <td>232273.0</td>\n",
       "      <td>0.004542</td>\n",
       "      <td>Medium</td>\n",
       "      <td>0.003832</td>\n",
       "      <td>0.006152</td>\n",
       "    </tr>\n",
       "  </tbody>\n",
       "</table>\n",
       "</div>"
      ],
      "text/plain": [
       "   Year       State  state_mw  state_mw_2020  fed_mw  fed_mw_2020  \\\n",
       "0  2001     Alabama      0.00           0.00    5.15         7.52   \n",
       "1  2001      Alaska      5.65           8.25    5.15         7.52   \n",
       "2  2001     Arizona      0.00           0.00    5.15         7.52   \n",
       "3  2001    Arkansas      5.15           7.52    5.15         7.52   \n",
       "4  2001  California      6.25           9.13    5.15         7.52   \n",
       "\n",
       "   effective_mw  effective_mw_2020  prisoner_count  state_population  \\\n",
       "0          5.15               7.52         24741.0         4468912.0   \n",
       "1          5.65               8.25          4570.0          633630.0   \n",
       "2          5.15               7.52         27710.0         5306966.0   \n",
       "3          5.15               7.52         11489.0         2694698.0   \n",
       "4          6.25               9.13        157142.0        34600464.0   \n",
       "\n",
       "   violent_crime  murder  robbery  burglary  incarceration_rate  \\\n",
       "0        19582.0   379.0   5584.0   40642.0            0.005536   \n",
       "1         3735.0    39.0    514.0    3847.0            0.007212   \n",
       "2        28675.0   400.0   8868.0   54821.0            0.005221   \n",
       "3        12190.0   148.0   2181.0   22196.0            0.004264   \n",
       "4       212867.0  2206.0  64614.0  232273.0            0.004542   \n",
       "\n",
       "        rate_rank  avg_rate_of_year  viol_crime_rate  \n",
       "0            High          0.003832         0.004382  \n",
       "1  Unusually High          0.003832         0.005895  \n",
       "2            High          0.003832         0.005403  \n",
       "3          Medium          0.003832         0.004524  \n",
       "4          Medium          0.003832         0.006152  "
      ]
     },
     "execution_count": 5,
     "metadata": {},
     "output_type": "execute_result"
    }
   ],
   "source": [
    "df.head()"
   ]
  },
  {
   "cell_type": "code",
   "execution_count": 6,
   "id": "d42fdeef",
   "metadata": {},
   "outputs": [
    {
     "data": {
      "text/plain": [
       "(800, 18)"
      ]
     },
     "execution_count": 6,
     "metadata": {},
     "output_type": "execute_result"
    }
   ],
   "source": [
    "df.shape"
   ]
  },
  {
   "cell_type": "code",
   "execution_count": 7,
   "id": "6752db1d",
   "metadata": {},
   "outputs": [
    {
     "data": {
      "text/plain": [
       "Index(['Year', 'State', 'state_mw', 'state_mw_2020', 'fed_mw', 'fed_mw_2020',\n",
       "       'effective_mw', 'effective_mw_2020', 'prisoner_count',\n",
       "       'state_population', 'violent_crime', 'murder', 'robbery', 'burglary',\n",
       "       'incarceration_rate', 'rate_rank', 'avg_rate_of_year',\n",
       "       'viol_crime_rate'],\n",
       "      dtype='object')"
      ]
     },
     "execution_count": 7,
     "metadata": {},
     "output_type": "execute_result"
    }
   ],
   "source": [
    "df.columns"
   ]
  },
  {
   "cell_type": "code",
   "execution_count": 8,
   "id": "54d079db",
   "metadata": {},
   "outputs": [],
   "source": [
    "df_sub = df[['state_mw', 'incarceration_rate', 'viol_crime_rate']]"
   ]
  },
  {
   "cell_type": "code",
   "execution_count": 9,
   "id": "247116e8",
   "metadata": {},
   "outputs": [
    {
     "data": {
      "text/html": [
       "<div>\n",
       "<style scoped>\n",
       "    .dataframe tbody tr th:only-of-type {\n",
       "        vertical-align: middle;\n",
       "    }\n",
       "\n",
       "    .dataframe tbody tr th {\n",
       "        vertical-align: top;\n",
       "    }\n",
       "\n",
       "    .dataframe thead th {\n",
       "        text-align: right;\n",
       "    }\n",
       "</style>\n",
       "<table border=\"1\" class=\"dataframe\">\n",
       "  <thead>\n",
       "    <tr style=\"text-align: right;\">\n",
       "      <th></th>\n",
       "      <th>state_mw</th>\n",
       "      <th>incarceration_rate</th>\n",
       "      <th>viol_crime_rate</th>\n",
       "    </tr>\n",
       "  </thead>\n",
       "  <tbody>\n",
       "    <tr>\n",
       "      <th>0</th>\n",
       "      <td>0.00</td>\n",
       "      <td>0.005536</td>\n",
       "      <td>0.004382</td>\n",
       "    </tr>\n",
       "    <tr>\n",
       "      <th>1</th>\n",
       "      <td>5.65</td>\n",
       "      <td>0.007212</td>\n",
       "      <td>0.005895</td>\n",
       "    </tr>\n",
       "    <tr>\n",
       "      <th>2</th>\n",
       "      <td>0.00</td>\n",
       "      <td>0.005221</td>\n",
       "      <td>0.005403</td>\n",
       "    </tr>\n",
       "    <tr>\n",
       "      <th>3</th>\n",
       "      <td>5.15</td>\n",
       "      <td>0.004264</td>\n",
       "      <td>0.004524</td>\n",
       "    </tr>\n",
       "    <tr>\n",
       "      <th>4</th>\n",
       "      <td>6.25</td>\n",
       "      <td>0.004542</td>\n",
       "      <td>0.006152</td>\n",
       "    </tr>\n",
       "  </tbody>\n",
       "</table>\n",
       "</div>"
      ],
      "text/plain": [
       "   state_mw  incarceration_rate  viol_crime_rate\n",
       "0      0.00            0.005536         0.004382\n",
       "1      5.65            0.007212         0.005895\n",
       "2      0.00            0.005221         0.005403\n",
       "3      5.15            0.004264         0.004524\n",
       "4      6.25            0.004542         0.006152"
      ]
     },
     "execution_count": 9,
     "metadata": {},
     "output_type": "execute_result"
    }
   ],
   "source": [
    "df_sub.head()"
   ]
  },
  {
   "cell_type": "code",
   "execution_count": 10,
   "id": "e459fe14",
   "metadata": {},
   "outputs": [
    {
     "data": {
      "text/plain": [
       "(800, 3)"
      ]
     },
     "execution_count": 10,
     "metadata": {},
     "output_type": "execute_result"
    }
   ],
   "source": [
    "df_sub.shape"
   ]
  },
  {
   "cell_type": "markdown",
   "id": "8b38a17b",
   "metadata": {},
   "source": [
    "### 2. Standardize data"
   ]
  },
  {
   "cell_type": "markdown",
   "id": "fc4b0b68",
   "metadata": {},
   "source": [
    "The 'incarceration_rate' and 'viol_crime_rate' are too small compared to the State Minimum Wage. The rates are percent rate still in decimal form so they will be scaled by 100 first. "
   ]
  },
  {
   "cell_type": "code",
   "execution_count": 11,
   "id": "80d85903",
   "metadata": {},
   "outputs": [],
   "source": [
    "# Create an array of all values in 'incarceration_rate' multiplied by 100\n",
    "# This will convert 0.005536 to 0.5536, read as 0.55%.\n",
    "\n",
    "incar_rate_scaled = []\n",
    "\n",
    "for value in df_sub['incarceration_rate']:\n",
    "    if value > 0:\n",
    "        ans = value*100\n",
    "        incar_rate_scaled.append(ans)\n",
    "    else:\n",
    "        incar_rate_scaled.append(np.nan)"
   ]
  },
  {
   "cell_type": "code",
   "execution_count": 12,
   "id": "fac172fe",
   "metadata": {},
   "outputs": [
    {
     "name": "stderr",
     "output_type": "stream",
     "text": [
      "C:\\Users\\NEENAT~1\\AppData\\Local\\Temp/ipykernel_16412/2500427793.py:3: SettingWithCopyWarning: \n",
      "A value is trying to be set on a copy of a slice from a DataFrame.\n",
      "Try using .loc[row_indexer,col_indexer] = value instead\n",
      "\n",
      "See the caveats in the documentation: https://pandas.pydata.org/pandas-docs/stable/user_guide/indexing.html#returning-a-view-versus-a-copy\n",
      "  df_sub['incar_rate_scaled'] = incar_rate_scaled\n"
     ]
    }
   ],
   "source": [
    "# Create a new column to attach values in resulting array. \n",
    "\n",
    "df_sub['incar_rate_scaled'] = incar_rate_scaled"
   ]
  },
  {
   "cell_type": "code",
   "execution_count": 13,
   "id": "47754d2c",
   "metadata": {},
   "outputs": [
    {
     "data": {
      "text/html": [
       "<div>\n",
       "<style scoped>\n",
       "    .dataframe tbody tr th:only-of-type {\n",
       "        vertical-align: middle;\n",
       "    }\n",
       "\n",
       "    .dataframe tbody tr th {\n",
       "        vertical-align: top;\n",
       "    }\n",
       "\n",
       "    .dataframe thead th {\n",
       "        text-align: right;\n",
       "    }\n",
       "</style>\n",
       "<table border=\"1\" class=\"dataframe\">\n",
       "  <thead>\n",
       "    <tr style=\"text-align: right;\">\n",
       "      <th></th>\n",
       "      <th>state_mw</th>\n",
       "      <th>incarceration_rate</th>\n",
       "      <th>viol_crime_rate</th>\n",
       "      <th>incar_rate_scaled</th>\n",
       "    </tr>\n",
       "  </thead>\n",
       "  <tbody>\n",
       "    <tr>\n",
       "      <th>0</th>\n",
       "      <td>0.00</td>\n",
       "      <td>0.005536</td>\n",
       "      <td>0.004382</td>\n",
       "      <td>0.553625</td>\n",
       "    </tr>\n",
       "    <tr>\n",
       "      <th>1</th>\n",
       "      <td>5.65</td>\n",
       "      <td>0.007212</td>\n",
       "      <td>0.005895</td>\n",
       "      <td>0.721241</td>\n",
       "    </tr>\n",
       "    <tr>\n",
       "      <th>2</th>\n",
       "      <td>0.00</td>\n",
       "      <td>0.005221</td>\n",
       "      <td>0.005403</td>\n",
       "      <td>0.522144</td>\n",
       "    </tr>\n",
       "    <tr>\n",
       "      <th>3</th>\n",
       "      <td>5.15</td>\n",
       "      <td>0.004264</td>\n",
       "      <td>0.004524</td>\n",
       "      <td>0.426356</td>\n",
       "    </tr>\n",
       "    <tr>\n",
       "      <th>4</th>\n",
       "      <td>6.25</td>\n",
       "      <td>0.004542</td>\n",
       "      <td>0.006152</td>\n",
       "      <td>0.454162</td>\n",
       "    </tr>\n",
       "  </tbody>\n",
       "</table>\n",
       "</div>"
      ],
      "text/plain": [
       "   state_mw  incarceration_rate  viol_crime_rate  incar_rate_scaled\n",
       "0      0.00            0.005536         0.004382           0.553625\n",
       "1      5.65            0.007212         0.005895           0.721241\n",
       "2      0.00            0.005221         0.005403           0.522144\n",
       "3      5.15            0.004264         0.004524           0.426356\n",
       "4      6.25            0.004542         0.006152           0.454162"
      ]
     },
     "execution_count": 13,
     "metadata": {},
     "output_type": "execute_result"
    }
   ],
   "source": [
    "df_sub.head()"
   ]
  },
  {
   "cell_type": "code",
   "execution_count": 14,
   "id": "d4a42d42",
   "metadata": {},
   "outputs": [
    {
     "data": {
      "text/plain": [
       "state_mw              0\n",
       "incarceration_rate    0\n",
       "viol_crime_rate       0\n",
       "incar_rate_scaled     0\n",
       "dtype: int64"
      ]
     },
     "execution_count": 14,
     "metadata": {},
     "output_type": "execute_result"
    }
   ],
   "source": [
    "df_sub.isnull().sum()"
   ]
  },
  {
   "cell_type": "code",
   "execution_count": 15,
   "id": "0d748ecf",
   "metadata": {},
   "outputs": [],
   "source": [
    "# Create an array of all values in 'viol_crime_rate' multiplied by 100\n",
    "# This will convert 0.004382 to 0.4382, read as 0.44%.\n",
    "\n",
    "viol_crime_scaled = []\n",
    "\n",
    "for value in df_sub['viol_crime_rate']:\n",
    "    if value > 0:\n",
    "        ans = value*100\n",
    "        viol_crime_scaled.append(ans)\n",
    "    else:\n",
    "        viol_crime_scaled.append(np.nan)"
   ]
  },
  {
   "cell_type": "code",
   "execution_count": 16,
   "id": "8d618366",
   "metadata": {},
   "outputs": [
    {
     "name": "stderr",
     "output_type": "stream",
     "text": [
      "C:\\Users\\NEENAT~1\\AppData\\Local\\Temp/ipykernel_16412/1867924450.py:1: SettingWithCopyWarning: \n",
      "A value is trying to be set on a copy of a slice from a DataFrame.\n",
      "Try using .loc[row_indexer,col_indexer] = value instead\n",
      "\n",
      "See the caveats in the documentation: https://pandas.pydata.org/pandas-docs/stable/user_guide/indexing.html#returning-a-view-versus-a-copy\n",
      "  df_sub['viol_crime_scaled'] = viol_crime_scaled\n"
     ]
    }
   ],
   "source": [
    "df_sub['viol_crime_scaled'] = viol_crime_scaled"
   ]
  },
  {
   "cell_type": "code",
   "execution_count": 17,
   "id": "fe65ea2a",
   "metadata": {},
   "outputs": [
    {
     "data": {
      "text/html": [
       "<div>\n",
       "<style scoped>\n",
       "    .dataframe tbody tr th:only-of-type {\n",
       "        vertical-align: middle;\n",
       "    }\n",
       "\n",
       "    .dataframe tbody tr th {\n",
       "        vertical-align: top;\n",
       "    }\n",
       "\n",
       "    .dataframe thead th {\n",
       "        text-align: right;\n",
       "    }\n",
       "</style>\n",
       "<table border=\"1\" class=\"dataframe\">\n",
       "  <thead>\n",
       "    <tr style=\"text-align: right;\">\n",
       "      <th></th>\n",
       "      <th>state_mw</th>\n",
       "      <th>incarceration_rate</th>\n",
       "      <th>viol_crime_rate</th>\n",
       "      <th>incar_rate_scaled</th>\n",
       "      <th>viol_crime_scaled</th>\n",
       "    </tr>\n",
       "  </thead>\n",
       "  <tbody>\n",
       "    <tr>\n",
       "      <th>0</th>\n",
       "      <td>0.00</td>\n",
       "      <td>0.005536</td>\n",
       "      <td>0.004382</td>\n",
       "      <td>0.553625</td>\n",
       "      <td>0.438183</td>\n",
       "    </tr>\n",
       "    <tr>\n",
       "      <th>1</th>\n",
       "      <td>5.65</td>\n",
       "      <td>0.007212</td>\n",
       "      <td>0.005895</td>\n",
       "      <td>0.721241</td>\n",
       "      <td>0.589461</td>\n",
       "    </tr>\n",
       "    <tr>\n",
       "      <th>2</th>\n",
       "      <td>0.00</td>\n",
       "      <td>0.005221</td>\n",
       "      <td>0.005403</td>\n",
       "      <td>0.522144</td>\n",
       "      <td>0.540328</td>\n",
       "    </tr>\n",
       "    <tr>\n",
       "      <th>3</th>\n",
       "      <td>5.15</td>\n",
       "      <td>0.004264</td>\n",
       "      <td>0.004524</td>\n",
       "      <td>0.426356</td>\n",
       "      <td>0.452370</td>\n",
       "    </tr>\n",
       "    <tr>\n",
       "      <th>4</th>\n",
       "      <td>6.25</td>\n",
       "      <td>0.004542</td>\n",
       "      <td>0.006152</td>\n",
       "      <td>0.454162</td>\n",
       "      <td>0.615214</td>\n",
       "    </tr>\n",
       "  </tbody>\n",
       "</table>\n",
       "</div>"
      ],
      "text/plain": [
       "   state_mw  incarceration_rate  viol_crime_rate  incar_rate_scaled  \\\n",
       "0      0.00            0.005536         0.004382           0.553625   \n",
       "1      5.65            0.007212         0.005895           0.721241   \n",
       "2      0.00            0.005221         0.005403           0.522144   \n",
       "3      5.15            0.004264         0.004524           0.426356   \n",
       "4      6.25            0.004542         0.006152           0.454162   \n",
       "\n",
       "   viol_crime_scaled  \n",
       "0           0.438183  \n",
       "1           0.589461  \n",
       "2           0.540328  \n",
       "3           0.452370  \n",
       "4           0.615214  "
      ]
     },
     "execution_count": 17,
     "metadata": {},
     "output_type": "execute_result"
    }
   ],
   "source": [
    "df_sub.head()"
   ]
  },
  {
   "cell_type": "code",
   "execution_count": 18,
   "id": "9a6a5484",
   "metadata": {},
   "outputs": [
    {
     "data": {
      "text/plain": [
       "state_mw              0\n",
       "incarceration_rate    0\n",
       "viol_crime_rate       0\n",
       "incar_rate_scaled     0\n",
       "viol_crime_scaled     0\n",
       "dtype: int64"
      ]
     },
     "execution_count": 18,
     "metadata": {},
     "output_type": "execute_result"
    }
   ],
   "source": [
    "df_sub.isnull().sum()"
   ]
  },
  {
   "cell_type": "markdown",
   "id": "7541b952",
   "metadata": {},
   "source": [
    "We no longer need the original columns for 'viol_crime_rate' and 'incarceration_rate', thus drop them from the subset."
   ]
  },
  {
   "cell_type": "code",
   "execution_count": 19,
   "id": "06b0384f",
   "metadata": {},
   "outputs": [
    {
     "name": "stderr",
     "output_type": "stream",
     "text": [
      "C:\\Users\\Neena Tilton\\anaconda3\\lib\\site-packages\\pandas\\core\\frame.py:4906: SettingWithCopyWarning: \n",
      "A value is trying to be set on a copy of a slice from a DataFrame\n",
      "\n",
      "See the caveats in the documentation: https://pandas.pydata.org/pandas-docs/stable/user_guide/indexing.html#returning-a-view-versus-a-copy\n",
      "  return super().drop(\n"
     ]
    }
   ],
   "source": [
    "df_sub.drop(columns = ['incarceration_rate','viol_crime_rate'], inplace = True)"
   ]
  },
  {
   "cell_type": "code",
   "execution_count": 20,
   "id": "a8ae2aa1",
   "metadata": {},
   "outputs": [
    {
     "data": {
      "text/html": [
       "<div>\n",
       "<style scoped>\n",
       "    .dataframe tbody tr th:only-of-type {\n",
       "        vertical-align: middle;\n",
       "    }\n",
       "\n",
       "    .dataframe tbody tr th {\n",
       "        vertical-align: top;\n",
       "    }\n",
       "\n",
       "    .dataframe thead th {\n",
       "        text-align: right;\n",
       "    }\n",
       "</style>\n",
       "<table border=\"1\" class=\"dataframe\">\n",
       "  <thead>\n",
       "    <tr style=\"text-align: right;\">\n",
       "      <th></th>\n",
       "      <th>state_mw</th>\n",
       "      <th>incar_rate_scaled</th>\n",
       "      <th>viol_crime_scaled</th>\n",
       "    </tr>\n",
       "  </thead>\n",
       "  <tbody>\n",
       "    <tr>\n",
       "      <th>0</th>\n",
       "      <td>0.00</td>\n",
       "      <td>0.553625</td>\n",
       "      <td>0.438183</td>\n",
       "    </tr>\n",
       "    <tr>\n",
       "      <th>1</th>\n",
       "      <td>5.65</td>\n",
       "      <td>0.721241</td>\n",
       "      <td>0.589461</td>\n",
       "    </tr>\n",
       "    <tr>\n",
       "      <th>2</th>\n",
       "      <td>0.00</td>\n",
       "      <td>0.522144</td>\n",
       "      <td>0.540328</td>\n",
       "    </tr>\n",
       "    <tr>\n",
       "      <th>3</th>\n",
       "      <td>5.15</td>\n",
       "      <td>0.426356</td>\n",
       "      <td>0.452370</td>\n",
       "    </tr>\n",
       "    <tr>\n",
       "      <th>4</th>\n",
       "      <td>6.25</td>\n",
       "      <td>0.454162</td>\n",
       "      <td>0.615214</td>\n",
       "    </tr>\n",
       "  </tbody>\n",
       "</table>\n",
       "</div>"
      ],
      "text/plain": [
       "   state_mw  incar_rate_scaled  viol_crime_scaled\n",
       "0      0.00           0.553625           0.438183\n",
       "1      5.65           0.721241           0.589461\n",
       "2      0.00           0.522144           0.540328\n",
       "3      5.15           0.426356           0.452370\n",
       "4      6.25           0.454162           0.615214"
      ]
     },
     "execution_count": 20,
     "metadata": {},
     "output_type": "execute_result"
    }
   ],
   "source": [
    "df_sub.head()"
   ]
  },
  {
   "cell_type": "markdown",
   "id": "0711fac8",
   "metadata": {},
   "source": [
    "### 3. Elbow technique to determine n-clusters"
   ]
  },
  {
   "cell_type": "code",
   "execution_count": 21,
   "id": "702d0c94",
   "metadata": {},
   "outputs": [],
   "source": [
    "# Define the range of potential clusters in data.\n",
    "num_cl = range(1,10)\n",
    "\n",
    "# Define k-means clusters in the range assigned above.\n",
    "kmeans = [KMeans(n_clusters=i) for i in num_cl]"
   ]
  },
  {
   "cell_type": "code",
   "execution_count": 22,
   "id": "f68ffc42",
   "metadata": {},
   "outputs": [
    {
     "data": {
      "text/plain": [
       "[-4998.828496773151,\n",
       " -1227.8388536279556,\n",
       " -420.196437928743,\n",
       " -286.1356306141747,\n",
       " -153.35890032483462,\n",
       " -104.14522311666649,\n",
       " -80.93459409821877,\n",
       " -61.766877069441485,\n",
       " -54.43164392504729]"
      ]
     },
     "execution_count": 22,
     "metadata": {},
     "output_type": "execute_result"
    }
   ],
   "source": [
    "# Create a score that represents a rate of variation for the given cluster number option. \n",
    "\n",
    "score = [kmeans[i].fit(df_sub).score(df_sub) for i in range(len(kmeans))]\n",
    "\n",
    "score"
   ]
  },
  {
   "cell_type": "code",
   "execution_count": 23,
   "id": "5665e9f3",
   "metadata": {},
   "outputs": [
    {
     "data": {
      "image/png": "[encoded data removed]",
      "text/plain": [
       "<Figure size 432x288 with 1 Axes>"
      ]
     },
     "metadata": {
      "needs_background": "light"
     },
     "output_type": "display_data"
    }
   ],
   "source": [
    "# Plot the elbow curve using PyLab.\n",
    "\n",
    "pl.plot(num_cl,score)\n",
    "pl.xlabel('Number of clusters')\n",
    "pl.ylabel('Score')\n",
    "pl.title('Elbow Curve')\n",
    "pl.show()"
   ]
  },
  {
   "cell_type": "markdown",
   "id": "034565cb",
   "metadata": {},
   "source": [
    "The curve flattens off dramatically after three clusters. The optimal count of clusters for the dataframe is 3. "
   ]
  },
  {
   "cell_type": "markdown",
   "id": "cf101dac",
   "metadata": {},
   "source": [
    "### 4. k-Means clustering"
   ]
  },
  {
   "cell_type": "code",
   "execution_count": 24,
   "id": "bcd04600",
   "metadata": {},
   "outputs": [],
   "source": [
    "# Create k-means object\n",
    "\n",
    "kmeans = KMeans(n_clusters = 3, n_jobs = -1)"
   ]
  },
  {
   "cell_type": "code",
   "execution_count": 25,
   "id": "d6ed8778",
   "metadata": {},
   "outputs": [
    {
     "name": "stderr",
     "output_type": "stream",
     "text": [
      "C:\\Users\\Neena Tilton\\anaconda3\\lib\\site-packages\\sklearn\\cluster\\_kmeans.py:792: FutureWarning: 'n_jobs' was deprecated in version 0.23 and will be removed in 1.0 (renaming of 0.25).\n",
      "  warnings.warn(\"'n_jobs' was deprecated in version 0.23 and will be\"\n"
     ]
    },
    {
     "data": {
      "text/plain": [
       "KMeans(n_clusters=3, n_jobs=-1)"
      ]
     },
     "execution_count": 25,
     "metadata": {},
     "output_type": "execute_result"
    }
   ],
   "source": [
    "kmeans.fit(df_sub)"
   ]
  },
  {
   "cell_type": "code",
   "execution_count": 26,
   "id": "8ed88eef",
   "metadata": {},
   "outputs": [
    {
     "name": "stderr",
     "output_type": "stream",
     "text": [
      "C:\\Users\\Neena Tilton\\anaconda3\\lib\\site-packages\\sklearn\\cluster\\_kmeans.py:792: FutureWarning: 'n_jobs' was deprecated in version 0.23 and will be removed in 1.0 (renaming of 0.25).\n",
      "  warnings.warn(\"'n_jobs' was deprecated in version 0.23 and will be\"\n",
      "C:\\Users\\NEENAT~1\\AppData\\Local\\Temp/ipykernel_16412/4169945.py:1: SettingWithCopyWarning: \n",
      "A value is trying to be set on a copy of a slice from a DataFrame.\n",
      "Try using .loc[row_indexer,col_indexer] = value instead\n",
      "\n",
      "See the caveats in the documentation: https://pandas.pydata.org/pandas-docs/stable/user_guide/indexing.html#returning-a-view-versus-a-copy\n",
      "  df_sub['clusters'] = kmeans.fit_predict(df_sub)\n"
     ]
    }
   ],
   "source": [
    "df_sub['clusters'] = kmeans.fit_predict(df_sub)"
   ]
  },
  {
   "cell_type": "code",
   "execution_count": 27,
   "id": "f7b2b64a",
   "metadata": {},
   "outputs": [
    {
     "data": {
      "text/html": [
       "<div>\n",
       "<style scoped>\n",
       "    .dataframe tbody tr th:only-of-type {\n",
       "        vertical-align: middle;\n",
       "    }\n",
       "\n",
       "    .dataframe tbody tr th {\n",
       "        vertical-align: top;\n",
       "    }\n",
       "\n",
       "    .dataframe thead th {\n",
       "        text-align: right;\n",
       "    }\n",
       "</style>\n",
       "<table border=\"1\" class=\"dataframe\">\n",
       "  <thead>\n",
       "    <tr style=\"text-align: right;\">\n",
       "      <th></th>\n",
       "      <th>state_mw</th>\n",
       "      <th>incar_rate_scaled</th>\n",
       "      <th>viol_crime_scaled</th>\n",
       "      <th>clusters</th>\n",
       "    </tr>\n",
       "  </thead>\n",
       "  <tbody>\n",
       "    <tr>\n",
       "      <th>0</th>\n",
       "      <td>0.00</td>\n",
       "      <td>0.553625</td>\n",
       "      <td>0.438183</td>\n",
       "      <td>1</td>\n",
       "    </tr>\n",
       "    <tr>\n",
       "      <th>1</th>\n",
       "      <td>5.65</td>\n",
       "      <td>0.721241</td>\n",
       "      <td>0.589461</td>\n",
       "      <td>2</td>\n",
       "    </tr>\n",
       "    <tr>\n",
       "      <th>2</th>\n",
       "      <td>0.00</td>\n",
       "      <td>0.522144</td>\n",
       "      <td>0.540328</td>\n",
       "      <td>1</td>\n",
       "    </tr>\n",
       "    <tr>\n",
       "      <th>3</th>\n",
       "      <td>5.15</td>\n",
       "      <td>0.426356</td>\n",
       "      <td>0.452370</td>\n",
       "      <td>2</td>\n",
       "    </tr>\n",
       "    <tr>\n",
       "      <th>4</th>\n",
       "      <td>6.25</td>\n",
       "      <td>0.454162</td>\n",
       "      <td>0.615214</td>\n",
       "      <td>2</td>\n",
       "    </tr>\n",
       "  </tbody>\n",
       "</table>\n",
       "</div>"
      ],
      "text/plain": [
       "   state_mw  incar_rate_scaled  viol_crime_scaled  clusters\n",
       "0      0.00           0.553625           0.438183         1\n",
       "1      5.65           0.721241           0.589461         2\n",
       "2      0.00           0.522144           0.540328         1\n",
       "3      5.15           0.426356           0.452370         2\n",
       "4      6.25           0.454162           0.615214         2"
      ]
     },
     "execution_count": 27,
     "metadata": {},
     "output_type": "execute_result"
    }
   ],
   "source": [
    "df_sub.head()"
   ]
  },
  {
   "cell_type": "code",
   "execution_count": 28,
   "id": "ea926696",
   "metadata": {},
   "outputs": [
    {
     "data": {
      "text/plain": [
       "0    411\n",
       "2    266\n",
       "1    123\n",
       "Name: clusters, dtype: int64"
      ]
     },
     "execution_count": 28,
     "metadata": {},
     "output_type": "execute_result"
    }
   ],
   "source": [
    "df_sub['clusters'].value_counts()"
   ]
  },
  {
   "cell_type": "code",
   "execution_count": 29,
   "id": "cf379734",
   "metadata": {},
   "outputs": [
    {
     "data": {
      "text/plain": [
       "800"
      ]
     },
     "execution_count": 29,
     "metadata": {},
     "output_type": "execute_result"
    }
   ],
   "source": [
    "411+266+123"
   ]
  },
  {
   "cell_type": "code",
   "execution_count": 30,
   "id": "f35cf206",
   "metadata": {},
   "outputs": [
    {
     "data": {
      "image/png": "[encoded data removed]",
      "text/plain": [
       "<Figure size 864x576 with 1 Axes>"
      ]
     },
     "metadata": {
      "needs_background": "light"
     },
     "output_type": "display_data"
    }
   ],
   "source": [
    "# Plot the clusters for 'state_mw' and 'incar_rate_scaled' variables.\n",
    "\n",
    "plt.figure(figsize = (12,8))\n",
    "ax = sns.scatterplot(x=df_sub['state_mw'], y=df_sub['incar_rate_scaled'], hue = kmeans.labels_, s = 100)\n",
    "\n",
    "ax.grid(False)\n",
    "plt.xlabel('State Minimum Wage')\n",
    "plt.ylabel('Incarceration Rate in percent')\n",
    "plt.show()"
   ]
  },
  {
   "cell_type": "code",
   "execution_count": 31,
   "id": "c5dc307c",
   "metadata": {},
   "outputs": [
    {
     "data": {
      "image/png": "[encoded data removed]",
      "text/plain": [
       "<Figure size 864x576 with 1 Axes>"
      ]
     },
     "metadata": {
      "needs_background": "light"
     },
     "output_type": "display_data"
    }
   ],
   "source": [
    "# Plot the clusters for 'state_mw' and 'viol_crime_scaled' variables.\n",
    "\n",
    "plt.figure(figsize = (12,8))\n",
    "ax = sns.scatterplot(x=df_sub['state_mw'], y=df_sub['viol_crime_scaled'], hue = kmeans.labels_, s = 100)\n",
    "\n",
    "ax.grid(False)\n",
    "plt.xlabel('State Minimum Wage')\n",
    "plt.ylabel( 'Rate of Violent Crimes in percent')\n",
    "plt.show()"
   ]
  },
  {
   "cell_type": "code",
   "execution_count": 32,
   "id": "5a18df83",
   "metadata": {},
   "outputs": [
    {
     "name": "stderr",
     "output_type": "stream",
     "text": [
      "C:\\Users\\Neena Tilton\\anaconda3\\lib\\site-packages\\pandas\\core\\indexing.py:1684: SettingWithCopyWarning: \n",
      "A value is trying to be set on a copy of a slice from a DataFrame.\n",
      "Try using .loc[row_indexer,col_indexer] = value instead\n",
      "\n",
      "See the caveats in the documentation: https://pandas.pydata.org/pandas-docs/stable/user_guide/indexing.html#returning-a-view-versus-a-copy\n",
      "  self.obj[key] = infer_fill_value(value)\n",
      "C:\\Users\\Neena Tilton\\anaconda3\\lib\\site-packages\\pandas\\core\\indexing.py:1817: SettingWithCopyWarning: \n",
      "A value is trying to be set on a copy of a slice from a DataFrame.\n",
      "Try using .loc[row_indexer,col_indexer] = value instead\n",
      "\n",
      "See the caveats in the documentation: https://pandas.pydata.org/pandas-docs/stable/user_guide/indexing.html#returning-a-view-versus-a-copy\n",
      "  self._setitem_single_column(loc, value, pi)\n"
     ]
    }
   ],
   "source": [
    "df_sub.loc[df_sub['clusters'] == 2, 'cluster'] = 'dark purple'\n",
    "df_sub.loc[df_sub['clusters'] == 1, 'cluster'] = 'purple'\n",
    "df_sub.loc[df_sub['clusters'] == 0, 'cluster'] = 'pink'"
   ]
  },
  {
   "cell_type": "code",
   "execution_count": 33,
   "id": "dc3dc95d",
   "metadata": {},
   "outputs": [],
   "source": [
    "cluster_stats = df_sub.groupby('cluster').agg({'state_mw': ['mean', 'median'],\n",
    "                                 'viol_crime_scaled': ['mean', 'median'],\n",
    "                                 'incar_rate_scaled': ['mean', 'median']})"
   ]
  },
  {
   "cell_type": "code",
   "execution_count": 36,
   "id": "55f311d0",
   "metadata": {},
   "outputs": [],
   "source": [
    "cluster_stats.to_csv(os.path.join(path, \"04_Analysis\", 'cluster_stats.csv'))"
   ]
  },
  {
   "cell_type": "markdown",
   "id": "c128e2d4",
   "metadata": {},
   "source": [
    "The dark-purple cluster has:\n",
    "- Average minimum wage of $ 0.60\n",
    "- Average violent crime rate of 0.50%\n",
    "- Average incarceration rate of 0.49%\n",
    "\n",
    "The pink cluster has:\n",
    "- Average minimum wage of $ 5.25\n",
    "- Average violent crime rate of 0.37%\n",
    "- Average incarceration rate of 0.38%\n",
    "\n",
    "The purple cluster has:\n",
    "- Average minimum wage of $ 7.50\n",
    "- Average violent crime rate of 0.36%\n",
    "- Average incarceration rate of 0.38%"
   ]
  },
  {
   "cell_type": "markdown",
   "id": "2c3bd0bd",
   "metadata": {},
   "source": [
    "### 5. Export subset dataframe"
   ]
  },
  {
   "cell_type": "code",
   "execution_count": 37,
   "id": "0b4c8d1c",
   "metadata": {},
   "outputs": [],
   "source": [
    "df_sub.to_csv(os.path.join(path, \"02_Data\", \"PreparedData\", 'Subset_clustered.csv'))"
   ]
  }
 ],
 "metadata": {
  "kernelspec": {
   "display_name": "Python 3 (ipykernel)",
   "language": "python",
   "name": "python3"
  },
  "language_info": {
   "codemirror_mode": {
    "name": "ipython",
    "version": 3
   },
   "file_extension": ".py",
   "mimetype": "text/x-python",
   "name": "python",
   "nbconvert_exporter": "python",
   "pygments_lexer": "ipython3",
   "version": "3.9.7"
  }
 },
 "nbformat": 4,
 "nbformat_minor": 5
}
